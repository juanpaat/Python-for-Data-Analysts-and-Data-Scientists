{
 "cells": [
  {
   "cell_type": "markdown",
   "metadata": {},
   "source": [
    "# Python for Data Analysts and Data Scientists"
   ]
  },
  {
   "cell_type": "markdown",
   "metadata": {},
   "source": [
    "## Important concepts"
   ]
  },
  {
   "cell_type": "markdown",
   "metadata": {},
   "source": [
    "\n",
    "- **Accuracy:** How close you are to the actual value you're looking for.   \n",
    "- **Precision:** How reproducible and repeatible is your algorithm.  \n"
   ]
  },
  {
   "cell_type": "markdown",
   "metadata": {},
   "source": [
    "## What is Data?  \n",
    "\n",
    "Any type of information, any piece of information.  \n",
    "\n",
    "\n",
    "\n",
    "![](https://www.researchgate.net/profile/Jorge-Cardoso-14/publication/236860222/figure/fig4/AS:669293989593114@1536583530877/Unstructured-semi-structured-and-structured-data.png)\n",
    "\n"
   ]
  },
  {
   "cell_type": "markdown",
   "metadata": {},
   "source": [
    "## What is an Algorithm?  \n",
    "\n",
    "Series of steps you take in order to accomplish a task. "
   ]
  },
  {
   "cell_type": "markdown",
   "metadata": {},
   "source": [
    "## What is Data Science?  \n",
    "In order to understan what Data Science is, first we need to undertand what Science is. **Science** in the knowledge or a system of knowledge especially as obtained and tested through **scientific method**. **Data Science** then is the sciences that uses data to drive conclusions using the scientific method.  \n",
    "It is very improtant to have in mind that part of the scientific method consist in testing Hypothesis but also in refusing Hipothesis."
   ]
  },
  {
   "cell_type": "markdown",
   "metadata": {},
   "source": [
    "## What is Machine Learning?\n",
    "Machine learning is a tool of Artificial intelligence that gives the machines the ability of lean wihtout being explicitly  programmed. Before **ML** (Machine learning), we had to explicitly define all possible actiones that the machine should take given a specific situation.  \n",
    "ML is often used when traditional statistic can not deal with a task, or when the amough of variables and/or data is massive.   \n",
    "\n",
    "\n",
    "There are many uses for ML, such as:\n",
    "\n",
    "* Prediction, like forcasting demand or prices changes.\n",
    "* Image recognition, like face detection.\n",
    "* Medical diagnoses, such as the ability to recognize cancerous tissues or anomalies in medical images. \n",
    "* Finance, performing fraud investigations and credit checks."
   ]
  },
  {
   "cell_type": "markdown",
   "metadata": {},
   "source": [
    "## What is Artificial Intelligence?\n",
    "\n",
    "Artificial intelligence, or AI for short, has been a field of study since the 1950’s. Popularity has increased recently because of the advancements in computing power.\n",
    "\n",
    "But what is artificial intelligence? AI is the ability to enable computers to understand data, learn from the data, and make decisions based on patterns hidden in the data. This sounds a lot like Machine Learning. In fact, machine learning tools are implementations of AI. These ML tools perform tasks that could otherwise be very difficult, if not impossible, for humans to perform manually. "
   ]
  },
  {
   "cell_type": "markdown",
   "metadata": {},
   "source": []
  }
 ],
 "metadata": {
  "kernelspec": {
   "display_name": "Python 3.9.4 64-bit",
   "language": "python",
   "name": "python3"
  },
  "language_info": {
   "codemirror_mode": {
    "name": "ipython",
    "version": 3
   },
   "file_extension": ".py",
   "mimetype": "text/x-python",
   "name": "python",
   "nbconvert_exporter": "python",
   "pygments_lexer": "ipython3",
   "version": "3.9.4"
  },
  "orig_nbformat": 4,
  "vscode": {
   "interpreter": {
    "hash": "aee8b7b246df8f9039afb4144a1f6fd8d2ca17a180786b69acc140d282b71a49"
   }
  }
 },
 "nbformat": 4,
 "nbformat_minor": 2
}
