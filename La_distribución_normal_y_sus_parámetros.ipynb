{
  "cells": [
    {
      "cell_type": "markdown",
      "metadata": {
        "id": "J0KcF-h3Y9yP"
      },
      "source": [
        "\n",
        "# Ley de los grandes números\n",
        "\n",
        "Haremos una pequeña prueba empírica de esta ley, creando datos ficticios con ciertos parámetros que conocemos y luego tratando de aproximar esos parámetros usando muestras de distintos tamaños, para ver cómo el tamaño de la muestra influye en el error del cálculo de la media.\n",
        "\n",
        "Primero crearemos una distribución que hará las veces de nuestra población. \n",
        "La población total consiste en 100.000 individuos. La función subyacente a la altura de estos individuos es una normal de media 1,70 mts y desvío estándar 0,10 mts. "
      ]
    },
    {
      "cell_type": "code",
      "execution_count": null,
      "metadata": {
        "colab": {
          "base_uri": "https://localhost:8080/",
          "height": 387
        },
        "id": "QynWdJ3rdEJR",
        "outputId": "a18d4366-ed4e-4b41-cfed-79108a1d48fa"
      },
      "outputs": [
        {
          "data": {
            "text/plain": [
              "<seaborn.axisgrid.FacetGrid at 0x7fe0aac1dd50>"
            ]
          },
          "execution_count": 1,
          "metadata": {},
          "output_type": "execute_result"
        },
        {
          "data": {
            "image/png": "[encoded data removed]",
            "text/plain": [
              "<Figure size 360x360 with 1 Axes>"
            ]
          },
          "metadata": {
            "needs_background": "light"
          },
          "output_type": "display_data"
        }
      ],
      "source": [
        "import numpy as np\n",
        "import seaborn as sns\n",
        "from math import sqrt\n",
        "\n",
        "np.random.seed(42)\n",
        "\n",
        "alturas = np.random.normal(1.70, 0.10, 100000) \n",
        "\n",
        "sns.displot(alturas, kind=\"kde\")\n"
      ]
    },
    {
      "cell_type": "markdown",
      "metadata": {
        "id": "yyI9s1t3j2fn"
      },
      "source": [
        "Ahora imagina que desconoces la función subyacente. Como a menudo sucede en la vida real, no puedes conocer la altura de los 100.000 individuos que componen la población, y solamente puedes acceder a una muestra. \n",
        "\n",
        "¿Qué podría suceder si esta muestra es de 10 individuos?\n",
        "\n",
        "Simularemos que tomamos a 10 individuos al azar de esta distribución.\n"
      ]
    },
    {
      "cell_type": "code",
      "execution_count": null,
      "metadata": {
        "colab": {
          "base_uri": "https://localhost:8080/"
        },
        "id": "BmUi3fLNmTcD",
        "outputId": "4f51b383-5c82-4489-87aa-268377f80d38"
      },
      "outputs": [
        {
          "name": "stdout",
          "output_type": "stream",
          "text": [
            "Los datos:  [1.74967142 1.68617357 1.76476885 1.85230299 1.67658466 1.6765863\n",
            " 1.85792128 1.77674347 1.65305256 1.754256  ]\n",
            "La media de esta muestra hipotética es de 1.74\n",
            "Y su error estándar es de 0.02\n"
          ]
        }
      ],
      "source": [
        "np.random.seed(42)\n",
        "\n",
        "muestra_10 = np.random.normal(1.70, 0.10, 10) \n",
        "\n",
        "# Observamos los datos\n",
        "print(\"Los datos: \", muestra_10)\n",
        "\n",
        "# Calculamos la media de la muestra\n",
        "print(\"La media de esta muestra hipotética es de {:.2f}\".format(np.mean(muestra_10)))\n",
        "\n",
        "# Para saber cuáánto nos aproximamos a la media de la población, calculamos el error estándar\n",
        "\n",
        "error_estandar_10 = np.std(muestra_10) / sqrt(10)\n",
        "\n",
        "print(\"Y su error estándar es de {:.2f}\".format(np.mean(error_estandar_10)))\n"
      ]
    },
    {
      "cell_type": "markdown",
      "metadata": {
        "id": "h494VTlcpdFp"
      },
      "source": [
        "Puedes leer más acerca del cálculo del error estándar [aquí](https://es.wikipedia.org/wiki/Error_est%C3%A1ndar#Error_est%C3%A1ndar_de_la_media).\n",
        "\n",
        "Ahora vamos a ver qué pasa si aumentamos el tamaño de la muestra. La Ley de los Grandes Números (y nuestra intuición) indica que debería disminuir el error."
      ]
    },
    {
      "cell_type": "code",
      "execution_count": null,
      "metadata": {
        "colab": {
          "base_uri": "https://localhost:8080/"
        },
        "id": "04XkmZO0mZTf",
        "outputId": "74b76849-f40d-40ad-dec7-c4569244c0cf"
      },
      "outputs": [
        {
          "name": "stdout",
          "output_type": "stream",
          "text": [
            "La media de esta muestra hipotética es de 1.69\n",
            "Y su error estándar es de 0.01\n"
          ]
        }
      ],
      "source": [
        "np.random.seed(42)\n",
        "\n",
        "muestra_100 = np.random.normal(1.70, 0.10, 100) \n",
        "\n",
        "error_estandar_100 = np.std(muestra_100) / sqrt(100)\n",
        "\n",
        "print(\"La media de esta muestra hipotética es de {:.2f}\".format(np.mean(muestra_100)))\n",
        "\n",
        "print(\"Y su error estándar es de {:.2f}\".format(np.mean(error_estandar_100)))\n"
      ]
    },
    {
      "cell_type": "markdown",
      "metadata": {
        "id": "A2BnS388yvU5"
      },
      "source": [
        "Por último, calculamos la media muestral sobre una muestra de 1.000 individuos y estimamos cuánto error hay con respecto a la media de la población."
      ]
    },
    {
      "cell_type": "code",
      "execution_count": null,
      "metadata": {
        "colab": {
          "base_uri": "https://localhost:8080/"
        },
        "id": "2Ayw-53IrF43",
        "outputId": "1b430c0f-edc8-4142-c574-9c6ecdc5d35e"
      },
      "outputs": [
        {
          "name": "stdout",
          "output_type": "stream",
          "text": [
            "La media de esta muestra hipotética es de 1.70\n",
            "Y su error estándar es de 0.00\n"
          ]
        }
      ],
      "source": [
        "np.random.seed(42)\n",
        "\n",
        "muestra_1000 = np.random.normal(1.70, 0.10, 1000) \n",
        "\n",
        "error_estandar_1000 = np.std(muestra_100) / sqrt(1000)\n",
        "\n",
        "print(\"La media de esta muestra hipotética es de {:.2f}\".format(np.mean(muestra_1000)))\n",
        "\n",
        "print(\"Y su error estándar es de {:.2f}\".format(np.mean(error_estandar_1000)))"
      ]
    },
    {
      "cell_type": "markdown",
      "metadata": {
        "id": "tLjZicHOzMbn"
      },
      "source": [
        "Nuevamente observamos que se reduce el error. Veamos algunos decimales más de este resultado para comprobar que no llegamos a calcular perfectamente la media poblacional aunque nos hayamos acercado bastante.\n"
      ]
    },
    {
      "cell_type": "code",
      "execution_count": null,
      "metadata": {
        "colab": {
          "base_uri": "https://localhost:8080/"
        },
        "id": "FrwIemxASyKP",
        "outputId": "4acc5b63-b490-499a-b3d2-9c0c90d04f91"
      },
      "outputs": [
        {
          "name": "stdout",
          "output_type": "stream",
          "text": [
            "La media de esta muestra hipotética es de 1.70193\n",
            "Y su error estándar es de 0.00286\n"
          ]
        }
      ],
      "source": [
        "# Observamos el mismo resultado que antes, mostrando más posiciones decimales\n",
        "\n",
        "print(\"La media de esta muestra hipotética es de {:.5f}\".format(np.mean(muestra_1000))) \n",
        "\n",
        "print(\"Y su error estándar es de {:.5f}\".format(np.mean(error_estandar_1000)))"
      ]
    },
    {
      "cell_type": "markdown",
      "metadata": {
        "id": "t7YiGAaUTF-o"
      },
      "source": [
        "# Ejercicio 1\n",
        "\n",
        "1. Escribe una función que simule el resultado de tirar un dado de 6 caras\n",
        "2. La media de infinitas tiradas de dado es *(1 + 2 + 3 + 4 + 5 + 6)/6*. Almacena el resultado en una variable llamada media_teorica.\n",
        "3. Ahora simula tirar el dado y calcular la media sobre el conjunto de las muestras que obtuvimos cada vez que agregamos una observación. La primera vez que arrojas el dado, calcula la media de esa observación. La segunda vez, calcula la media de las dos tiradas. Y así hasta llegar a 1.000 observaciones. Guárdalas en una variable llamada media_observada\n",
        "4. En un mismo gráfico, grafica la media_teorica y la media_observada. La media_teorica será constante mientras que la media_observada tomará distintos valores a medida que aumentan los ensayos. Observa su cambio."
      ]
    },
    {
      "cell_type": "code",
      "execution_count": null,
      "metadata": {
        "colab": {
          "base_uri": "https://localhost:8080/"
        },
        "id": "TwAH7-HlWWaH",
        "outputId": "f08768e8-206a-455d-b639-e0156fed794f"
      },
      "outputs": [
        {
          "name": "stdout",
          "output_type": "stream",
          "text": [
            "6\n"
          ]
        }
      ],
      "source": [
        "# 1. Es una funcion que devuelve nros del 1 al 6 de forma equiprobable, se puede hacer con una variable\n",
        "import numpy as np\n",
        "import pylab as plt\n",
        "\n",
        "dado=np.random.choice([1,2,3,4,5,6])\n",
        "print(dado)\n"
      ]
    },
    {
      "cell_type": "code",
      "execution_count": null,
      "metadata": {
        "colab": {
          "base_uri": "https://localhost:8080/"
        },
        "id": "XNr6Cdp5l_k3",
        "outputId": "d4d6adaf-a875-4d91-e693-13aa725a80a3"
      },
      "outputs": [
        {
          "name": "stdout",
          "output_type": "stream",
          "text": [
            "3.5\n"
          ]
        }
      ],
      "source": [
        "#2.\n",
        "media_teorica=(1+2+3+4+5+6)/6\n",
        "print(media_teorica)"
      ]
    },
    {
      "cell_type": "code",
      "execution_count": null,
      "metadata": {
        "id": "xrO8oFeUqtzw"
      },
      "outputs": [],
      "source": [
        "#3. armo funcion que tira el dado N veces. Por simplicidad, calculo la media para distintos N\n",
        "\n",
        "def dado(N):\n",
        "  tirada=np.zeros(N)\n",
        "\n",
        "  for i in range(N):\n",
        "    tirada[i]=np.random.choice([1,2,3,4,5,6])\n",
        "\n",
        "  return tirada  \n"
      ]
    },
    {
      "cell_type": "code",
      "execution_count": null,
      "metadata": {
        "colab": {
          "base_uri": "https://localhost:8080/",
          "height": 350
        },
        "id": "wjNElPHzrP5Q",
        "outputId": "4edcb1c7-516f-4b69-94e7-38ea627f15fb"
      },
      "outputs": [
        {
          "name": "stdout",
          "output_type": "stream",
          "text": [
            "4.1\n",
            "3.472\n"
          ]
        },
        {
          "data": {
            "text/plain": [
              "(array([164.,   0., 168.,   0., 174.,   0., 171.,   0., 172., 151.]),\n",
              " array([1. , 1.5, 2. , 2.5, 3. , 3.5, 4. , 4.5, 5. , 5.5, 6. ]),\n",
              " <a list of 10 Patch objects>)"
            ]
          },
          "execution_count": 9,
          "metadata": {},
          "output_type": "execute_result"
        },
        {
          "data": {
            "image/png": "[encoded data removed]",
            "text/plain": [
              "<Figure size 432x288 with 1 Axes>"
            ]
          },
          "metadata": {
            "needs_background": "light"
          },
          "output_type": "display_data"
        }
      ],
      "source": [
        "t10=dado(10)\n",
        "m10=np.mean(t10)\n",
        "\n",
        "t1000=dado(1000)\n",
        "m1000=np.mean(t1000)\n",
        "\n",
        "print(m10)\n",
        "print(m1000)\n",
        "\n",
        "plt.hist(t1000)"
      ]
    },
    {
      "cell_type": "code",
      "execution_count": null,
      "metadata": {
        "id": "fz8RBZfCv5Sd"
      },
      "outputs": [],
      "source": [
        "#4 armo funcion que calcula la media a medida que hace cada observacion\n",
        "\n",
        "def evolucion_media(datos):\n",
        "  medias=np.zeros(len(datos))\n",
        "\n",
        "  for i in range(len(datos)):\n",
        "    di=datos[0:i]\n",
        "    medias[i]=np.mean(di)\n",
        "\n",
        "  return medias   "
      ]
    },
    {
      "cell_type": "code",
      "execution_count": null,
      "metadata": {
        "colab": {
          "base_uri": "https://localhost:8080/",
          "height": 364
        },
        "id": "MIYixLJUwb1s",
        "outputId": "33662b16-9f3c-4ac1-983e-3a47e6033efc"
      },
      "outputs": [
        {
          "name": "stderr",
          "output_type": "stream",
          "text": [
            "/usr/local/lib/python3.7/dist-packages/numpy/core/fromnumeric.py:3373: RuntimeWarning: Mean of empty slice.\n",
            "  out=out, **kwargs)\n",
            "/usr/local/lib/python3.7/dist-packages/numpy/core/_methods.py:170: RuntimeWarning: invalid value encountered in double_scalars\n",
            "  ret = ret.dtype.type(ret / rcount)\n"
          ]
        },
        {
          "data": {
            "text/plain": [
              "Text(0, 0.5, 'promedio')"
            ]
          },
          "execution_count": 11,
          "metadata": {},
          "output_type": "execute_result"
        },
        {
          "data": {
            "image/png": "[encoded data removed]",
            "text/plain": [
              "<Figure size 432x288 with 1 Axes>"
            ]
          },
          "metadata": {
            "needs_background": "light"
          },
          "output_type": "display_data"
        }
      ],
      "source": [
        "medias=evolucion_media(t1000)\n",
        "media_teo=media_teorica*np.ones(len(medias))\n",
        "plt.plot(medias,label='observada')\n",
        "plt.plot(media_teo,'--',label='teorica')\n",
        "plt.legend()\n",
        "plt.xlabel('tirada')\n",
        "plt.ylabel('promedio')"
      ]
    },
    {
      "cell_type": "markdown",
      "metadata": {
        "id": "tgwb5J4fvMke"
      },
      "source": [
        "# Ejercicio 2\n",
        "\n",
        "1. Genera datos sintéticos que simulen el resultado de realizar 5,000 mediciones de PH sobre una variable normal de media 5,75 y desvío estándar 0,75. \n",
        "2. Transforma los puntajes a puntajes Z.\n",
        "3. Grafica los puntajes Z utilizando el parámetro kde de la función displot de seaborn.\n"
      ]
    },
    {
      "cell_type": "code",
      "execution_count": null,
      "metadata": {
        "colab": {
          "base_uri": "https://localhost:8080/",
          "height": 367
        },
        "id": "GKIIZ_6vyimc",
        "outputId": "141199ba-fe54-4567-ae81-c2b30fed5017"
      },
      "outputs": [
        {
          "data": {
            "text/plain": [
              "(array([  23.,  139.,  474., 1099., 1373., 1110.,  560.,  179.,   40.,\n",
              "           3.]),\n",
              " array([3.25289547, 3.79676137, 4.34062728, 4.88449319, 5.4283591 ,\n",
              "        5.97222501, 6.51609092, 7.05995683, 7.60382273, 8.14768864,\n",
              "        8.69155455]),\n",
              " <a list of 10 Patch objects>)"
            ]
          },
          "execution_count": 3,
          "metadata": {},
          "output_type": "execute_result"
        },
        {
          "data": {
            "image/png": "[encoded data removed]",
            "text/plain": [
              "<Figure size 432x288 with 1 Axes>"
            ]
          },
          "metadata": {
            "needs_background": "light"
          },
          "output_type": "display_data"
        }
      ],
      "source": [
        "# 1.\n",
        "mu=5.75\n",
        "sigma=0.75\n",
        "N=5000\n",
        "datos=np.random.normal(mu,sigma,N)\n",
        "plt.hist(datos)"
      ]
    },
    {
      "cell_type": "code",
      "execution_count": null,
      "metadata": {
        "colab": {
          "base_uri": "https://localhost:8080/",
          "height": 367
        },
        "id": "kOUxLb-2mGyV",
        "outputId": "483f2206-1b8e-4ddd-b961-7d36e97f806b"
      },
      "outputs": [
        {
          "data": {
            "text/plain": [
              "(array([  23.,  139.,  474., 1099., 1373., 1110.,  560.,  179.,   40.,\n",
              "           3.]),\n",
              " array([-3.26967717, -2.55630155, -1.84292594, -1.12955032, -0.41617471,\n",
              "         0.29720091,  1.01057652,  1.72395214,  2.43732775,  3.15070337,\n",
              "         3.86407898]),\n",
              " <a list of 10 Patch objects>)"
            ]
          },
          "execution_count": 4,
          "metadata": {},
          "output_type": "execute_result"
        },
        {
          "data": {
            "image/png": "[encoded data removed]",
            "text/plain": [
              "<Figure size 432x288 with 1 Axes>"
            ]
          },
          "metadata": {
            "needs_background": "light"
          },
          "output_type": "display_data"
        }
      ],
      "source": [
        "#2. \n",
        "#calculamos media y desviación de la muestra y luego, Z\n",
        "media=np.mean(datos)\n",
        "desvio=np.std(datos)\n",
        "\n",
        "Z=(datos-media)/desvio\n",
        "plt.hist(Z)"
      ]
    },
    {
      "cell_type": "code",
      "execution_count": null,
      "metadata": {
        "id": "m8Fb2IIhm5vH"
      },
      "outputs": [],
      "source": [
        "#3\n",
        "import seaborn as sns\n"
      ]
    },
    {
      "cell_type": "code",
      "execution_count": null,
      "metadata": {
        "colab": {
          "base_uri": "https://localhost:8080/",
          "height": 283
        },
        "id": "YOXG6_vYnNqk",
        "outputId": "e69ba5ca-3ae9-438e-f011-4342e1cd36e7"
      },
      "outputs": [
        {
          "data": {
            "text/plain": [
              "<matplotlib.axes._subplots.AxesSubplot at 0x7f314c7a4450>"
            ]
          },
          "execution_count": 6,
          "metadata": {},
          "output_type": "execute_result"
        },
        {
          "data": {
            "image/png": "[encoded data removed]",
            "text/plain": [
              "<Figure size 432x288 with 1 Axes>"
            ]
          },
          "metadata": {
            "needs_background": "light"
          },
          "output_type": "display_data"
        }
      ],
      "source": [
        "sns.kdeplot(data=Z)"
      ]
    },
    {
      "cell_type": "code",
      "execution_count": null,
      "metadata": {
        "id": "nymCatUBnQ9r"
      },
      "outputs": [],
      "source": []
    }
  ],
  "metadata": {
    "colab": {
      "provenance": []
    },
    "kernelspec": {
      "display_name": "Python 3.9.4 64-bit",
      "language": "python",
      "name": "python3"
    },
    "language_info": {
      "codemirror_mode": {
        "name": "ipython",
        "version": 3
      },
      "file_extension": ".py",
      "mimetype": "text/x-python",
      "name": "python",
      "nbconvert_exporter": "python",
      "pygments_lexer": "ipython3",
      "version": "3.9.4"
    },
    "vscode": {
      "interpreter": {
        "hash": "aee8b7b246df8f9039afb4144a1f6fd8d2ca17a180786b69acc140d282b71a49"
      }
    }
  },
  "nbformat": 4,
  "nbformat_minor": 0
}
