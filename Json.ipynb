{
 "cells": [
  {
   "cell_type": "markdown",
   "metadata": {},
   "source": [
    "# Json"
   ]
  },
  {
   "cell_type": "markdown",
   "metadata": {},
   "source": [
    "## Goals\n",
    "\n",
    "By the end of this case, you will have a foundational knowledge of what JSON data formatting is and how to read, manipulate, and write JSON files using Python. You will also learn how to use the `json` library to create and manipulate jon files, including the functions:\n",
    "- [json.load()](https://www.geeksforgeeks.org/json-load-in-python/)\n",
    "- [json.loads()](https://www.geeksforgeeks.org/json-loads-in-python/)\n",
    "- [json.dump()](https://www.geeksforgeeks.org/json-dump-in-python/)\n",
    "- [json.dumps()](https://www.geeksforgeeks.org/json-dumps-in-python/)"
   ]
  },
  {
   "cell_type": "markdown",
   "metadata": {},
   "source": [
    "`Json` is a format not coding-language dependant and it is used to move data from one place to another. \n",
    "It is semi-structurated."
   ]
  },
  {
   "cell_type": "markdown",
   "metadata": {},
   "source": [
    "## Who is JSON?\n",
    "\n",
    "**JSON** (JavaScript Object Orientation) is a data file format that stores human-readable text in the form of **key-value pairs**, and is most commonly used to store and transmit data in web applications and servers.\n",
    "\n",
    "Take a look at a sample snippet:\n",
    "\n",
    "```json\n",
    "{\n",
    "  \"firstName\": \"John\",\n",
    "  \"lastName\": \"Smith\",\n",
    "  \"isAlive\": true,\n",
    "  \"age\": 27,\n",
    "  \"address\": {\n",
    "    \"streetAddress\": \"21 2nd Street\",\n",
    "    \"city\": \"New York\",\n",
    "    \"state\": \"NY\",\n",
    "    \"postalCode\": \"10021-3100\"\n",
    "  },\n",
    "  \"phoneNumbers\": [\n",
    "    {\n",
    "      \"type\": \"home\",\n",
    "      \"number\": \"212 555-1234\"\n",
    "    },\n",
    "    {\n",
    "      \"type\": \"office\",\n",
    "      \"number\": \"646 555-4567\"\n",
    "    }\n",
    "  ],\n",
    "  \"children\": [],\n",
    "  \"spouse\": null\n",
    "}\n",
    "```\n",
    "While it may look foreign at first glance, the data is laid out in a way that can be easily read from left to right and from top to bottom in order to quickly find information.\n",
    "\n",
    "Despite its name, JSON is a language-agnostic data format that can be used across a wide array of programming languages. Fortunately, Python natively works quite seamlessly with most JSON data by way of the `json` package. Let's start by importing it below:"
   ]
  },
  {
   "cell_type": "code",
   "execution_count": 1,
   "metadata": {},
   "outputs": [],
   "source": [
    "import json\n",
    "import numpy as np\n",
    "import pandas as pd"
   ]
  },
  {
   "cell_type": "code",
   "execution_count": 3,
   "metadata": {},
   "outputs": [
    {
     "name": "stdout",
     "output_type": "stream",
     "text": [
      "\n",
      "{\n",
      "    \"name\": \"Bruno\",\n",
      "    \"species\": \"Cat\",\n",
      "    \"age\": 4,\n",
      "    \"adopted\": \"Y\",\n",
      "    \"adoptionDate\": \"05-05-21\",\n",
      "    \"treatments\": [\"neutered\", \"microchipped\"]\n",
      "}\n",
      "\n",
      "<class 'str'>\n"
     ]
    }
   ],
   "source": [
    "pet_json_string = \"\"\"\n",
    "{\n",
    "    \"name\": \"Bruno\",\n",
    "    \"species\": \"Cat\",\n",
    "    \"age\": 4,\n",
    "    \"adopted\": \"Y\",\n",
    "    \"adoptionDate\": \"05-05-21\",\n",
    "    \"treatments\": [\"neutered\", \"microchipped\"]\n",
    "}\n",
    "\"\"\"\n",
    "\n",
    "print(pet_json_string)\n",
    "print(type(pet_json_string))"
   ]
  },
  {
   "cell_type": "code",
   "execution_count": 5,
   "metadata": {},
   "outputs": [
    {
     "name": "stdout",
     "output_type": "stream",
     "text": [
      "{'name': 'Bruno', 'species': 'Cat', 'age': 4, 'adopted': 'Y', 'adoptionDate': '05-05-21', 'treatments': ['neutered', 'microchipped']}\n",
      "<class 'dict'>\n"
     ]
    }
   ],
   "source": [
    "pet_info = json.loads(pet_json_string)   # convert a string into a Json if it has the correct format\n",
    "print(pet_info)\n",
    "print(type(pet_info))     # Python lo lee como un diccionario\n"
   ]
  },
  {
   "cell_type": "markdown",
   "metadata": {},
   "source": [
    "## how to get values from a given key"
   ]
  },
  {
   "cell_type": "code",
   "execution_count": 6,
   "metadata": {},
   "outputs": [
    {
     "data": {
      "text/plain": [
       "'Cat'"
      ]
     },
     "execution_count": 6,
     "metadata": {},
     "output_type": "execute_result"
    }
   ],
   "source": [
    "pet_info['species']"
   ]
  },
  {
   "cell_type": "markdown",
   "metadata": {},
   "source": [
    "## get the keys"
   ]
  },
  {
   "cell_type": "code",
   "execution_count": 7,
   "metadata": {},
   "outputs": [
    {
     "data": {
      "text/plain": [
       "dict_keys(['name', 'species', 'age', 'adopted', 'adoptionDate', 'treatments'])"
      ]
     },
     "execution_count": 7,
     "metadata": {},
     "output_type": "execute_result"
    }
   ],
   "source": [
    "pet_info.keys()"
   ]
  },
  {
   "cell_type": "markdown",
   "metadata": {},
   "source": [
    "## get the values\n"
   ]
  },
  {
   "cell_type": "code",
   "execution_count": 8,
   "metadata": {},
   "outputs": [
    {
     "data": {
      "text/plain": [
       "dict_values(['Bruno', 'Cat', 4, 'Y', '05-05-21', ['neutered', 'microchipped']])"
      ]
     },
     "execution_count": 8,
     "metadata": {},
     "output_type": "execute_result"
    }
   ],
   "source": [
    "pet_info.values()"
   ]
  },
  {
   "cell_type": "markdown",
   "metadata": {},
   "source": [
    "## get both, keys and values"
   ]
  },
  {
   "cell_type": "code",
   "execution_count": 9,
   "metadata": {},
   "outputs": [
    {
     "data": {
      "text/plain": [
       "dict_items([('name', 'Bruno'), ('species', 'Cat'), ('age', 4), ('adopted', 'Y'), ('adoptionDate', '05-05-21'), ('treatments', ['neutered', 'microchipped'])])"
      ]
     },
     "execution_count": 9,
     "metadata": {},
     "output_type": "execute_result"
    }
   ],
   "source": [
    "pet_info.items()"
   ]
  },
  {
   "cell_type": "markdown",
   "metadata": {},
   "source": [
    "## change a value on a dictionary"
   ]
  },
  {
   "cell_type": "code",
   "execution_count": 10,
   "metadata": {},
   "outputs": [],
   "source": [
    "pet_info['age'] = 5"
   ]
  },
  {
   "cell_type": "code",
   "execution_count": 12,
   "metadata": {},
   "outputs": [
    {
     "data": {
      "text/plain": [
       "{'name': 'Bruno',\n",
       " 'species': 'Cat',\n",
       " 'age': 5,\n",
       " 'adopted': 'Y',\n",
       " 'adoptionDate': '05-05-21',\n",
       " 'treatments': ['neutered', 'microchipped']}"
      ]
     },
     "execution_count": 12,
     "metadata": {},
     "output_type": "execute_result"
    }
   ],
   "source": [
    "pet_info"
   ]
  },
  {
   "cell_type": "markdown",
   "metadata": {},
   "source": [
    "## adding a new key with its item"
   ]
  },
  {
   "cell_type": "code",
   "execution_count": 21,
   "metadata": {},
   "outputs": [
    {
     "data": {
      "text/plain": [
       "{'name': 'Bruno',\n",
       " 'species': 'Cat',\n",
       " 'age': 5,\n",
       " 'adopted': 'Y',\n",
       " 'adoptionDate': '05-05-21',\n",
       " 'treatments': ['neutered', 'microchipped'],\n",
       " 'Weigth': 5,\n",
       " 'colour': 'white'}"
      ]
     },
     "execution_count": 21,
     "metadata": {},
     "output_type": "execute_result"
    }
   ],
   "source": [
    "pet_info.update({'colour': 'white'})      #option 1\n",
    "pet_info"
   ]
  },
  {
   "cell_type": "code",
   "execution_count": 22,
   "metadata": {},
   "outputs": [
    {
     "data": {
      "text/plain": [
       "{'name': 'Bruno',\n",
       " 'species': 'Cat',\n",
       " 'age': 5,\n",
       " 'adopted': 'Y',\n",
       " 'adoptionDate': '05-05-21',\n",
       " 'treatments': ['neutered', 'microchipped'],\n",
       " 'Weigth': 5,\n",
       " 'colour': 'white'}"
      ]
     },
     "execution_count": 22,
     "metadata": {},
     "output_type": "execute_result"
    }
   ],
   "source": [
    "pet_info['Weigth'] = 5          #option 2\n",
    "pet_info"
   ]
  },
  {
   "cell_type": "markdown",
   "metadata": {},
   "source": [
    "## Droping a key of a dictionary"
   ]
  },
  {
   "cell_type": "code",
   "execution_count": 23,
   "metadata": {},
   "outputs": [
    {
     "data": {
      "text/plain": [
       "{'name': 'Bruno',\n",
       " 'species': 'Cat',\n",
       " 'age': 5,\n",
       " 'adopted': 'Y',\n",
       " 'adoptionDate': '05-05-21',\n",
       " 'treatments': ['neutered', 'microchipped'],\n",
       " 'Weigth': 5}"
      ]
     },
     "execution_count": 23,
     "metadata": {},
     "output_type": "execute_result"
    }
   ],
   "source": [
    "pet_info.pop('colour')        #Option 1\n",
    "pet_info"
   ]
  },
  {
   "cell_type": "code",
   "execution_count": 24,
   "metadata": {},
   "outputs": [
    {
     "data": {
      "text/plain": [
       "{'name': 'Bruno',\n",
       " 'species': 'Cat',\n",
       " 'age': 5,\n",
       " 'adopted': 'Y',\n",
       " 'adoptionDate': '05-05-21',\n",
       " 'treatments': ['neutered', 'microchipped']}"
      ]
     },
     "execution_count": 24,
     "metadata": {},
     "output_type": "execute_result"
    }
   ],
   "source": [
    "del pet_info['Weigth']\n",
    "pet_info"
   ]
  },
  {
   "cell_type": "markdown",
   "metadata": {},
   "source": [
    "## iterating over a dictionary"
   ]
  },
  {
   "cell_type": "code",
   "execution_count": 27,
   "metadata": {},
   "outputs": [
    {
     "name": "stdout",
     "output_type": "stream",
     "text": [
      "('name', 'Bruno')\n",
      "('species', 'Cat')\n",
      "('age', 5)\n",
      "('adopted', 'Y')\n",
      "('adoptionDate', '05-05-21')\n",
      "('treatments', ['neutered', 'microchipped'])\n"
     ]
    }
   ],
   "source": [
    "for i in pet_info.keys():\n",
    "    print(i)"
   ]
  },
  {
   "cell_type": "code",
   "execution_count": 28,
   "metadata": {},
   "outputs": [
    {
     "name": "stdout",
     "output_type": "stream",
     "text": [
      "Bruno\n",
      "Cat\n",
      "5\n",
      "Y\n",
      "05-05-21\n",
      "['neutered', 'microchipped']\n"
     ]
    }
   ],
   "source": [
    "for i in pet_info.values():\n",
    "    print(i)"
   ]
  },
  {
   "cell_type": "code",
   "execution_count": 29,
   "metadata": {},
   "outputs": [
    {
     "name": "stdout",
     "output_type": "stream",
     "text": [
      "('name', 'Bruno')\n",
      "('species', 'Cat')\n",
      "('age', 5)\n",
      "('adopted', 'Y')\n",
      "('adoptionDate', '05-05-21')\n",
      "('treatments', ['neutered', 'microchipped'])\n"
     ]
    }
   ],
   "source": [
    "for i in pet_info.items():\n",
    "    print(i)"
   ]
  },
  {
   "cell_type": "markdown",
   "metadata": {},
   "source": [
    "### Adding information to a list "
   ]
  },
  {
   "cell_type": "code",
   "execution_count": 30,
   "metadata": {},
   "outputs": [
    {
     "data": {
      "text/plain": [
       "{'name': 'Bruno',\n",
       " 'species': 'Cat',\n",
       " 'age': 5,\n",
       " 'adopted': 'Y',\n",
       " 'adoptionDate': '05-05-21',\n",
       " 'treatments': ['neutered', 'microchipped', 'vaccinated']}"
      ]
     },
     "execution_count": 30,
     "metadata": {},
     "output_type": "execute_result"
    }
   ],
   "source": [
    "pet_info['treatments'].append('vaccinated')\n",
    "pet_info"
   ]
  },
  {
   "cell_type": "markdown",
   "metadata": {},
   "source": [
    "#### adding information in a specific place"
   ]
  },
  {
   "cell_type": "code",
   "execution_count": 31,
   "metadata": {},
   "outputs": [
    {
     "data": {
      "text/plain": [
       "{'name': 'Bruno',\n",
       " 'species': 'Cat',\n",
       " 'age': 5,\n",
       " 'adopted': 'Y',\n",
       " 'adoptionDate': '05-05-21',\n",
       " 'treatments': ['neutered', 'microchipped', 'new_entre', 'vaccinated']}"
      ]
     },
     "execution_count": 31,
     "metadata": {},
     "output_type": "execute_result"
    }
   ],
   "source": [
    "pet_info['treatments'].insert(2, 'new_entre')\n",
    "pet_info"
   ]
  },
  {
   "cell_type": "markdown",
   "metadata": {},
   "source": [
    "### delete"
   ]
  },
  {
   "cell_type": "code",
   "execution_count": 32,
   "metadata": {},
   "outputs": [
    {
     "data": {
      "text/plain": [
       "{'name': 'Bruno',\n",
       " 'species': 'Cat',\n",
       " 'age': 5,\n",
       " 'adopted': 'Y',\n",
       " 'adoptionDate': '05-05-21',\n",
       " 'treatments': ['neutered', 'microchipped', 'vaccinated']}"
      ]
     },
     "execution_count": 32,
     "metadata": {},
     "output_type": "execute_result"
    }
   ],
   "source": [
    "pet_info['treatments'].pop(2)\n",
    "pet_info"
   ]
  },
  {
   "cell_type": "markdown",
   "metadata": {},
   "source": [
    "# how to export in a `Json` format"
   ]
  },
  {
   "cell_type": "code",
   "execution_count": 33,
   "metadata": {},
   "outputs": [],
   "source": [
    "with open(\"Data/pet_record.json\", \"w\") as f:\n",
    "    json.dump(pet_info, f)\n",
    "    "
   ]
  },
  {
   "cell_type": "code",
   "execution_count": 35,
   "metadata": {},
   "outputs": [],
   "source": [
    "with open(\"Data/pet_record_formatted.json\", \"w\") as f:\n",
    "    json.dump(pet_info, f, indent=4)       # mejor formaterado  mas legible pero ocupa mas memoria"
   ]
  },
  {
   "cell_type": "markdown",
   "metadata": {},
   "source": [
    "## Reading a `JSON` file"
   ]
  },
  {
   "cell_type": "code",
   "execution_count": 36,
   "metadata": {},
   "outputs": [
    {
     "name": "stdout",
     "output_type": "stream",
     "text": [
      "<class 'dict'>\n",
      "{'name': 'Bruno', 'species': 'Cat', 'age': 5, 'adopted': 'Y', 'adoptionDate': '05-05-21', 'treatments': ['neutered', 'microchipped', 'vaccinated']}\n"
     ]
    }
   ],
   "source": [
    "with open(\"Data/pet_record.json\", \"r\") as f:\n",
    "    pet1 = json.load(f)\n",
    "    \n",
    "print(type(pet1))    \n",
    "print(pet1)"
   ]
  },
  {
   "cell_type": "code",
   "execution_count": 37,
   "metadata": {},
   "outputs": [
    {
     "data": {
      "text/plain": [
       "{'name': 'Bruno',\n",
       " 'species': 'Cat',\n",
       " 'age': 5,\n",
       " 'adopted': 'Y',\n",
       " 'adoptionDate': '05-05-21',\n",
       " 'treatments': ['neutered', 'microchipped', 'vaccinated']}"
      ]
     },
     "execution_count": 37,
     "metadata": {},
     "output_type": "execute_result"
    }
   ],
   "source": [
    "pet1"
   ]
  },
  {
   "cell_type": "code",
   "execution_count": 42,
   "metadata": {},
   "outputs": [
    {
     "name": "stdout",
     "output_type": "stream",
     "text": [
      "<class 'dict'>\n",
      "{'name': 'Cletus', 'species': 'Dog', 'age': 2, 'adopted': 'N', 'adoptionDate': None, 'treatments': ['flea/tick']}\n"
     ]
    }
   ],
   "source": [
    "pet2 = {\n",
    "    \"name\": \"Cletus\",\n",
    "    \"species\": \"Dog\",\n",
    "    \"age\": 2,\n",
    "    \"adopted\": \"N\",\n",
    "    \"adoptionDate\": None,\n",
    "    \"treatments\": ['flea/tick']\n",
    "}\n",
    "print(type(pet2))\n",
    "print(pet2)"
   ]
  },
  {
   "cell_type": "markdown",
   "metadata": {},
   "source": [
    "#### `dumps` changes the dictionary type to a str class"
   ]
  },
  {
   "cell_type": "code",
   "execution_count": 41,
   "metadata": {},
   "outputs": [
    {
     "name": "stdout",
     "output_type": "stream",
     "text": [
      "<class 'str'>\n",
      "{\n",
      "    \"name\": \"Cletus\",\n",
      "    \"species\": \"Dog\",\n",
      "    \"age\": 2,\n",
      "    \"adopted\": \"N\",\n",
      "    \"adoptionDate\": null,\n",
      "    \"treatments\": [\n",
      "        \"flea/tick\"\n",
      "    ]\n",
      "}\n"
     ]
    }
   ],
   "source": [
    "pet2_json = json.dumps(pet2, indent=4)\n",
    "print(type(pet2_json))\n",
    "print(pet2_json)"
   ]
  },
  {
   "cell_type": "markdown",
   "metadata": {},
   "source": [
    "#### `loads` changes the str type to a string class"
   ]
  },
  {
   "cell_type": "code",
   "execution_count": 43,
   "metadata": {},
   "outputs": [
    {
     "name": "stdout",
     "output_type": "stream",
     "text": [
      "<class 'dict'>\n",
      "{'name': 'Cletus', 'species': 'Dog', 'age': 2, 'adopted': 'N', 'adoptionDate': None, 'treatments': ['flea/tick']}\n"
     ]
    }
   ],
   "source": [
    "pet2_dict = json.loads(pet2_json)\n",
    "\n",
    "print(type(pet2_dict))\n",
    "print(pet2_dict)"
   ]
  },
  {
   "cell_type": "markdown",
   "metadata": {},
   "source": [
    "## More complex `JSON`"
   ]
  },
  {
   "cell_type": "code",
   "execution_count": 46,
   "metadata": {},
   "outputs": [
    {
     "name": "stdout",
     "output_type": "stream",
     "text": [
      "<class 'dict'>\n"
     ]
    },
    {
     "data": {
      "text/plain": [
       "{'vetOffice': 'Paws N Claws',\n",
       " 'vetOfficeAddress': '1234 Main St. \\n Chicago, IL',\n",
       " 'vetName': 'Joseph R. Wilkes',\n",
       " 'patients': [{'name': 'Bruno',\n",
       "   'species': 'Cat',\n",
       "   'age': 5,\n",
       "   'adopted': 'Y',\n",
       "   'adoptionDate': '05-05-21',\n",
       "   'treatments': ['neutered', 'microchipped', 'vaccinated']},\n",
       "  {'name': 'Cletus',\n",
       "   'species': 'Dog',\n",
       "   'age': 2,\n",
       "   'adopted': 'N',\n",
       "   'adoptionDate': None,\n",
       "   'treatments': ['flea/tick']}]}"
      ]
     },
     "execution_count": 46,
     "metadata": {},
     "output_type": "execute_result"
    }
   ],
   "source": [
    "vet_info = {\n",
    "    \"vetOffice\": \"Paws N Claws\",\n",
    "    \"vetOfficeAddress\": \"1234 Main St. \\n Chicago, IL\",\n",
    "    \"vetName\": \"Joseph R. Wilkes\",\n",
    "    \"patients\": [pet1, pet2]\n",
    "}\n",
    "\n",
    "print(type(vet_info))\n",
    "vet_info"
   ]
  },
  {
   "cell_type": "code",
   "execution_count": 47,
   "metadata": {},
   "outputs": [],
   "source": [
    "with open(\"Data/vet_record.json\", \"w\") as f:\n",
    "    json.dump(vet_info, f, indent=4)    "
   ]
  },
  {
   "cell_type": "markdown",
   "metadata": {},
   "source": [
    "# `Pandas` to read `JSON`"
   ]
  },
  {
   "cell_type": "code",
   "execution_count": 48,
   "metadata": {},
   "outputs": [
    {
     "data": {
      "text/plain": [
       "{'vetOffice': 'Paws N Claws',\n",
       " 'vetOfficeAddress': '1234 Main St. \\n Chicago, IL',\n",
       " 'vetName': 'Joseph R. Wilkes',\n",
       " 'patients': [{'name': 'Deanna',\n",
       "   'species': 'Alpaca',\n",
       "   'age': 9,\n",
       "   'adoptionDate': '2021-01-16'},\n",
       "  {'name': 'Jose', 'species': 'Llama', 'age': 5, 'adoptionDate': '2021-06-19'},\n",
       "  {'name': 'Sarah',\n",
       "   'species': 'Llama',\n",
       "   'age': 7,\n",
       "   'adoptionDate': '2021-10-14'},\n",
       "  {'name': 'Miguel', 'species': 'Dog', 'age': 6, 'adoptionDate': '2021-05-31'},\n",
       "  {'name': 'Timothy',\n",
       "   'species': 'guinea pig',\n",
       "   'age': 2,\n",
       "   'adoptionDate': '2021-02-11'},\n",
       "  {'name': 'Megan',\n",
       "   'species': 'Sheep',\n",
       "   'age': 4,\n",
       "   'adoptionDate': '2021-06-23'},\n",
       "  {'name': 'Nicholas',\n",
       "   'species': 'Alpaca',\n",
       "   'age': 10,\n",
       "   'adoptionDate': '2021-08-01'},\n",
       "  {'name': 'Brian',\n",
       "   'species': 'Sheep',\n",
       "   'age': 2,\n",
       "   'adoptionDate': '2021-09-05'},\n",
       "  {'name': 'Tamara',\n",
       "   'species': 'Donkey',\n",
       "   'age': 2,\n",
       "   'adoptionDate': '2021-10-24'},\n",
       "  {'name': 'Julie', 'species': 'Bird', 'age': 3, 'adoptionDate': '2021-10-05'},\n",
       "  {'name': 'John',\n",
       "   'species': 'hamster',\n",
       "   'age': 3,\n",
       "   'adoptionDate': '2021-11-16'},\n",
       "  {'name': 'Michael',\n",
       "   'species': 'Bird',\n",
       "   'age': 5,\n",
       "   'adoptionDate': '2021-05-06'},\n",
       "  {'name': 'Christy',\n",
       "   'species': 'gerbil',\n",
       "   'age': 5,\n",
       "   'adoptionDate': '2021-01-06'},\n",
       "  {'name': 'Cynthia',\n",
       "   'species': 'gerbil',\n",
       "   'age': 1,\n",
       "   'adoptionDate': '2021-04-11'},\n",
       "  {'name': 'Mark', 'species': 'Fish', 'age': 3, 'adoptionDate': '2021-09-30'},\n",
       "  {'name': 'Samantha',\n",
       "   'species': 'Pig',\n",
       "   'age': 3,\n",
       "   'adoptionDate': '2021-03-08'},\n",
       "  {'name': 'Jason',\n",
       "   'species': 'Horse',\n",
       "   'age': 5,\n",
       "   'adoptionDate': '2021-05-05'},\n",
       "  {'name': 'Nancy',\n",
       "   'species': 'Red fox',\n",
       "   'age': 10,\n",
       "   'adoptionDate': '2021-07-14'},\n",
       "  {'name': 'Bradley',\n",
       "   'species': 'Hedgehog',\n",
       "   'age': 3,\n",
       "   'adoptionDate': '2021-08-09'},\n",
       "  {'name': 'Alison', 'species': 'Pig', 'age': 6, 'adoptionDate': '2021-09-09'},\n",
       "  {'name': 'Sherri',\n",
       "   'species': 'Sugar glider',\n",
       "   'age': 4,\n",
       "   'adoptionDate': '2021-07-21'},\n",
       "  {'name': 'Lauren',\n",
       "   'species': 'Alpaca',\n",
       "   'age': 3,\n",
       "   'adoptionDate': '2021-05-07'},\n",
       "  {'name': 'Cheryl',\n",
       "   'species': 'Goat',\n",
       "   'age': 8,\n",
       "   'adoptionDate': '2021-10-17'},\n",
       "  {'name': 'Jennifer',\n",
       "   'species': 'Sheep',\n",
       "   'age': 8,\n",
       "   'adoptionDate': '2021-02-27'},\n",
       "  {'name': 'Brian',\n",
       "   'species': 'Monkey',\n",
       "   'age': 7,\n",
       "   'adoptionDate': '2021-08-25'}]}"
      ]
     },
     "execution_count": 48,
     "metadata": {},
     "output_type": "execute_result"
    }
   ],
   "source": [
    "with open(\"Data/vet_records_full.json\", \"r\") as f:\n",
    "    vet_records = json.load(f)\n",
    "\n",
    "\n",
    "vet_records"
   ]
  },
  {
   "cell_type": "markdown",
   "metadata": {},
   "source": [
    "# converting a dictionary to a dataset"
   ]
  },
  {
   "cell_type": "code",
   "execution_count": 61,
   "metadata": {},
   "outputs": [],
   "source": [
    "import pandas as pd"
   ]
  },
  {
   "cell_type": "code",
   "execution_count": 62,
   "metadata": {},
   "outputs": [
    {
     "data": {
      "text/html": [
       "<div>\n",
       "<style scoped>\n",
       "    .dataframe tbody tr th:only-of-type {\n",
       "        vertical-align: middle;\n",
       "    }\n",
       "\n",
       "    .dataframe tbody tr th {\n",
       "        vertical-align: top;\n",
       "    }\n",
       "\n",
       "    .dataframe thead th {\n",
       "        text-align: right;\n",
       "    }\n",
       "</style>\n",
       "<table border=\"1\" class=\"dataframe\">\n",
       "  <thead>\n",
       "    <tr style=\"text-align: right;\">\n",
       "      <th></th>\n",
       "      <th>vetOffice</th>\n",
       "      <th>vetOfficeAddress</th>\n",
       "      <th>vetName</th>\n",
       "      <th>patients</th>\n",
       "    </tr>\n",
       "  </thead>\n",
       "  <tbody>\n",
       "    <tr>\n",
       "      <th>0</th>\n",
       "      <td>Paws N Claws</td>\n",
       "      <td>1234 Main St. \\n Chicago, IL</td>\n",
       "      <td>Joseph R. Wilkes</td>\n",
       "      <td>{'name': 'Deanna', 'species': 'Alpaca', 'age':...</td>\n",
       "    </tr>\n",
       "    <tr>\n",
       "      <th>1</th>\n",
       "      <td>Paws N Claws</td>\n",
       "      <td>1234 Main St. \\n Chicago, IL</td>\n",
       "      <td>Joseph R. Wilkes</td>\n",
       "      <td>{'name': 'Jose', 'species': 'Llama', 'age': 5,...</td>\n",
       "    </tr>\n",
       "    <tr>\n",
       "      <th>2</th>\n",
       "      <td>Paws N Claws</td>\n",
       "      <td>1234 Main St. \\n Chicago, IL</td>\n",
       "      <td>Joseph R. Wilkes</td>\n",
       "      <td>{'name': 'Sarah', 'species': 'Llama', 'age': 7...</td>\n",
       "    </tr>\n",
       "    <tr>\n",
       "      <th>3</th>\n",
       "      <td>Paws N Claws</td>\n",
       "      <td>1234 Main St. \\n Chicago, IL</td>\n",
       "      <td>Joseph R. Wilkes</td>\n",
       "      <td>{'name': 'Miguel', 'species': 'Dog', 'age': 6,...</td>\n",
       "    </tr>\n",
       "    <tr>\n",
       "      <th>4</th>\n",
       "      <td>Paws N Claws</td>\n",
       "      <td>1234 Main St. \\n Chicago, IL</td>\n",
       "      <td>Joseph R. Wilkes</td>\n",
       "      <td>{'name': 'Timothy', 'species': 'guinea pig', '...</td>\n",
       "    </tr>\n",
       "    <tr>\n",
       "      <th>5</th>\n",
       "      <td>Paws N Claws</td>\n",
       "      <td>1234 Main St. \\n Chicago, IL</td>\n",
       "      <td>Joseph R. Wilkes</td>\n",
       "      <td>{'name': 'Megan', 'species': 'Sheep', 'age': 4...</td>\n",
       "    </tr>\n",
       "    <tr>\n",
       "      <th>6</th>\n",
       "      <td>Paws N Claws</td>\n",
       "      <td>1234 Main St. \\n Chicago, IL</td>\n",
       "      <td>Joseph R. Wilkes</td>\n",
       "      <td>{'name': 'Nicholas', 'species': 'Alpaca', 'age...</td>\n",
       "    </tr>\n",
       "    <tr>\n",
       "      <th>7</th>\n",
       "      <td>Paws N Claws</td>\n",
       "      <td>1234 Main St. \\n Chicago, IL</td>\n",
       "      <td>Joseph R. Wilkes</td>\n",
       "      <td>{'name': 'Brian', 'species': 'Sheep', 'age': 2...</td>\n",
       "    </tr>\n",
       "    <tr>\n",
       "      <th>8</th>\n",
       "      <td>Paws N Claws</td>\n",
       "      <td>1234 Main St. \\n Chicago, IL</td>\n",
       "      <td>Joseph R. Wilkes</td>\n",
       "      <td>{'name': 'Tamara', 'species': 'Donkey', 'age':...</td>\n",
       "    </tr>\n",
       "    <tr>\n",
       "      <th>9</th>\n",
       "      <td>Paws N Claws</td>\n",
       "      <td>1234 Main St. \\n Chicago, IL</td>\n",
       "      <td>Joseph R. Wilkes</td>\n",
       "      <td>{'name': 'Julie', 'species': 'Bird', 'age': 3,...</td>\n",
       "    </tr>\n",
       "    <tr>\n",
       "      <th>10</th>\n",
       "      <td>Paws N Claws</td>\n",
       "      <td>1234 Main St. \\n Chicago, IL</td>\n",
       "      <td>Joseph R. Wilkes</td>\n",
       "      <td>{'name': 'John', 'species': 'hamster', 'age': ...</td>\n",
       "    </tr>\n",
       "    <tr>\n",
       "      <th>11</th>\n",
       "      <td>Paws N Claws</td>\n",
       "      <td>1234 Main St. \\n Chicago, IL</td>\n",
       "      <td>Joseph R. Wilkes</td>\n",
       "      <td>{'name': 'Michael', 'species': 'Bird', 'age': ...</td>\n",
       "    </tr>\n",
       "    <tr>\n",
       "      <th>12</th>\n",
       "      <td>Paws N Claws</td>\n",
       "      <td>1234 Main St. \\n Chicago, IL</td>\n",
       "      <td>Joseph R. Wilkes</td>\n",
       "      <td>{'name': 'Christy', 'species': 'gerbil', 'age'...</td>\n",
       "    </tr>\n",
       "    <tr>\n",
       "      <th>13</th>\n",
       "      <td>Paws N Claws</td>\n",
       "      <td>1234 Main St. \\n Chicago, IL</td>\n",
       "      <td>Joseph R. Wilkes</td>\n",
       "      <td>{'name': 'Cynthia', 'species': 'gerbil', 'age'...</td>\n",
       "    </tr>\n",
       "    <tr>\n",
       "      <th>14</th>\n",
       "      <td>Paws N Claws</td>\n",
       "      <td>1234 Main St. \\n Chicago, IL</td>\n",
       "      <td>Joseph R. Wilkes</td>\n",
       "      <td>{'name': 'Mark', 'species': 'Fish', 'age': 3, ...</td>\n",
       "    </tr>\n",
       "    <tr>\n",
       "      <th>15</th>\n",
       "      <td>Paws N Claws</td>\n",
       "      <td>1234 Main St. \\n Chicago, IL</td>\n",
       "      <td>Joseph R. Wilkes</td>\n",
       "      <td>{'name': 'Samantha', 'species': 'Pig', 'age': ...</td>\n",
       "    </tr>\n",
       "    <tr>\n",
       "      <th>16</th>\n",
       "      <td>Paws N Claws</td>\n",
       "      <td>1234 Main St. \\n Chicago, IL</td>\n",
       "      <td>Joseph R. Wilkes</td>\n",
       "      <td>{'name': 'Jason', 'species': 'Horse', 'age': 5...</td>\n",
       "    </tr>\n",
       "    <tr>\n",
       "      <th>17</th>\n",
       "      <td>Paws N Claws</td>\n",
       "      <td>1234 Main St. \\n Chicago, IL</td>\n",
       "      <td>Joseph R. Wilkes</td>\n",
       "      <td>{'name': 'Nancy', 'species': 'Red fox', 'age':...</td>\n",
       "    </tr>\n",
       "    <tr>\n",
       "      <th>18</th>\n",
       "      <td>Paws N Claws</td>\n",
       "      <td>1234 Main St. \\n Chicago, IL</td>\n",
       "      <td>Joseph R. Wilkes</td>\n",
       "      <td>{'name': 'Bradley', 'species': 'Hedgehog', 'ag...</td>\n",
       "    </tr>\n",
       "    <tr>\n",
       "      <th>19</th>\n",
       "      <td>Paws N Claws</td>\n",
       "      <td>1234 Main St. \\n Chicago, IL</td>\n",
       "      <td>Joseph R. Wilkes</td>\n",
       "      <td>{'name': 'Alison', 'species': 'Pig', 'age': 6,...</td>\n",
       "    </tr>\n",
       "    <tr>\n",
       "      <th>20</th>\n",
       "      <td>Paws N Claws</td>\n",
       "      <td>1234 Main St. \\n Chicago, IL</td>\n",
       "      <td>Joseph R. Wilkes</td>\n",
       "      <td>{'name': 'Sherri', 'species': 'Sugar glider', ...</td>\n",
       "    </tr>\n",
       "    <tr>\n",
       "      <th>21</th>\n",
       "      <td>Paws N Claws</td>\n",
       "      <td>1234 Main St. \\n Chicago, IL</td>\n",
       "      <td>Joseph R. Wilkes</td>\n",
       "      <td>{'name': 'Lauren', 'species': 'Alpaca', 'age':...</td>\n",
       "    </tr>\n",
       "    <tr>\n",
       "      <th>22</th>\n",
       "      <td>Paws N Claws</td>\n",
       "      <td>1234 Main St. \\n Chicago, IL</td>\n",
       "      <td>Joseph R. Wilkes</td>\n",
       "      <td>{'name': 'Cheryl', 'species': 'Goat', 'age': 8...</td>\n",
       "    </tr>\n",
       "    <tr>\n",
       "      <th>23</th>\n",
       "      <td>Paws N Claws</td>\n",
       "      <td>1234 Main St. \\n Chicago, IL</td>\n",
       "      <td>Joseph R. Wilkes</td>\n",
       "      <td>{'name': 'Jennifer', 'species': 'Sheep', 'age'...</td>\n",
       "    </tr>\n",
       "    <tr>\n",
       "      <th>24</th>\n",
       "      <td>Paws N Claws</td>\n",
       "      <td>1234 Main St. \\n Chicago, IL</td>\n",
       "      <td>Joseph R. Wilkes</td>\n",
       "      <td>{'name': 'Brian', 'species': 'Monkey', 'age': ...</td>\n",
       "    </tr>\n",
       "  </tbody>\n",
       "</table>\n",
       "</div>"
      ],
      "text/plain": [
       "       vetOffice              vetOfficeAddress           vetName  \\\n",
       "0   Paws N Claws  1234 Main St. \\n Chicago, IL  Joseph R. Wilkes   \n",
       "1   Paws N Claws  1234 Main St. \\n Chicago, IL  Joseph R. Wilkes   \n",
       "2   Paws N Claws  1234 Main St. \\n Chicago, IL  Joseph R. Wilkes   \n",
       "3   Paws N Claws  1234 Main St. \\n Chicago, IL  Joseph R. Wilkes   \n",
       "4   Paws N Claws  1234 Main St. \\n Chicago, IL  Joseph R. Wilkes   \n",
       "5   Paws N Claws  1234 Main St. \\n Chicago, IL  Joseph R. Wilkes   \n",
       "6   Paws N Claws  1234 Main St. \\n Chicago, IL  Joseph R. Wilkes   \n",
       "7   Paws N Claws  1234 Main St. \\n Chicago, IL  Joseph R. Wilkes   \n",
       "8   Paws N Claws  1234 Main St. \\n Chicago, IL  Joseph R. Wilkes   \n",
       "9   Paws N Claws  1234 Main St. \\n Chicago, IL  Joseph R. Wilkes   \n",
       "10  Paws N Claws  1234 Main St. \\n Chicago, IL  Joseph R. Wilkes   \n",
       "11  Paws N Claws  1234 Main St. \\n Chicago, IL  Joseph R. Wilkes   \n",
       "12  Paws N Claws  1234 Main St. \\n Chicago, IL  Joseph R. Wilkes   \n",
       "13  Paws N Claws  1234 Main St. \\n Chicago, IL  Joseph R. Wilkes   \n",
       "14  Paws N Claws  1234 Main St. \\n Chicago, IL  Joseph R. Wilkes   \n",
       "15  Paws N Claws  1234 Main St. \\n Chicago, IL  Joseph R. Wilkes   \n",
       "16  Paws N Claws  1234 Main St. \\n Chicago, IL  Joseph R. Wilkes   \n",
       "17  Paws N Claws  1234 Main St. \\n Chicago, IL  Joseph R. Wilkes   \n",
       "18  Paws N Claws  1234 Main St. \\n Chicago, IL  Joseph R. Wilkes   \n",
       "19  Paws N Claws  1234 Main St. \\n Chicago, IL  Joseph R. Wilkes   \n",
       "20  Paws N Claws  1234 Main St. \\n Chicago, IL  Joseph R. Wilkes   \n",
       "21  Paws N Claws  1234 Main St. \\n Chicago, IL  Joseph R. Wilkes   \n",
       "22  Paws N Claws  1234 Main St. \\n Chicago, IL  Joseph R. Wilkes   \n",
       "23  Paws N Claws  1234 Main St. \\n Chicago, IL  Joseph R. Wilkes   \n",
       "24  Paws N Claws  1234 Main St. \\n Chicago, IL  Joseph R. Wilkes   \n",
       "\n",
       "                                             patients  \n",
       "0   {'name': 'Deanna', 'species': 'Alpaca', 'age':...  \n",
       "1   {'name': 'Jose', 'species': 'Llama', 'age': 5,...  \n",
       "2   {'name': 'Sarah', 'species': 'Llama', 'age': 7...  \n",
       "3   {'name': 'Miguel', 'species': 'Dog', 'age': 6,...  \n",
       "4   {'name': 'Timothy', 'species': 'guinea pig', '...  \n",
       "5   {'name': 'Megan', 'species': 'Sheep', 'age': 4...  \n",
       "6   {'name': 'Nicholas', 'species': 'Alpaca', 'age...  \n",
       "7   {'name': 'Brian', 'species': 'Sheep', 'age': 2...  \n",
       "8   {'name': 'Tamara', 'species': 'Donkey', 'age':...  \n",
       "9   {'name': 'Julie', 'species': 'Bird', 'age': 3,...  \n",
       "10  {'name': 'John', 'species': 'hamster', 'age': ...  \n",
       "11  {'name': 'Michael', 'species': 'Bird', 'age': ...  \n",
       "12  {'name': 'Christy', 'species': 'gerbil', 'age'...  \n",
       "13  {'name': 'Cynthia', 'species': 'gerbil', 'age'...  \n",
       "14  {'name': 'Mark', 'species': 'Fish', 'age': 3, ...  \n",
       "15  {'name': 'Samantha', 'species': 'Pig', 'age': ...  \n",
       "16  {'name': 'Jason', 'species': 'Horse', 'age': 5...  \n",
       "17  {'name': 'Nancy', 'species': 'Red fox', 'age':...  \n",
       "18  {'name': 'Bradley', 'species': 'Hedgehog', 'ag...  \n",
       "19  {'name': 'Alison', 'species': 'Pig', 'age': 6,...  \n",
       "20  {'name': 'Sherri', 'species': 'Sugar glider', ...  \n",
       "21  {'name': 'Lauren', 'species': 'Alpaca', 'age':...  \n",
       "22  {'name': 'Cheryl', 'species': 'Goat', 'age': 8...  \n",
       "23  {'name': 'Jennifer', 'species': 'Sheep', 'age'...  \n",
       "24  {'name': 'Brian', 'species': 'Monkey', 'age': ...  "
      ]
     },
     "execution_count": 62,
     "metadata": {},
     "output_type": "execute_result"
    }
   ],
   "source": [
    "df = pd.DataFrame(vet_records)\n",
    "df"
   ]
  },
  {
   "cell_type": "markdown",
   "metadata": {},
   "source": [
    "# separate information"
   ]
  },
  {
   "cell_type": "code",
   "execution_count": 68,
   "metadata": {},
   "outputs": [
    {
     "data": {
      "text/html": [
       "<div>\n",
       "<style scoped>\n",
       "    .dataframe tbody tr th:only-of-type {\n",
       "        vertical-align: middle;\n",
       "    }\n",
       "\n",
       "    .dataframe tbody tr th {\n",
       "        vertical-align: top;\n",
       "    }\n",
       "\n",
       "    .dataframe thead th {\n",
       "        text-align: right;\n",
       "    }\n",
       "</style>\n",
       "<table border=\"1\" class=\"dataframe\">\n",
       "  <thead>\n",
       "    <tr style=\"text-align: right;\">\n",
       "      <th></th>\n",
       "      <th>name</th>\n",
       "      <th>species</th>\n",
       "      <th>age</th>\n",
       "      <th>adoptionDate</th>\n",
       "    </tr>\n",
       "  </thead>\n",
       "  <tbody>\n",
       "    <tr>\n",
       "      <th>0</th>\n",
       "      <td>Deanna</td>\n",
       "      <td>Alpaca</td>\n",
       "      <td>9</td>\n",
       "      <td>2021-01-16</td>\n",
       "    </tr>\n",
       "    <tr>\n",
       "      <th>1</th>\n",
       "      <td>Jose</td>\n",
       "      <td>Llama</td>\n",
       "      <td>5</td>\n",
       "      <td>2021-06-19</td>\n",
       "    </tr>\n",
       "    <tr>\n",
       "      <th>2</th>\n",
       "      <td>Sarah</td>\n",
       "      <td>Llama</td>\n",
       "      <td>7</td>\n",
       "      <td>2021-10-14</td>\n",
       "    </tr>\n",
       "    <tr>\n",
       "      <th>3</th>\n",
       "      <td>Miguel</td>\n",
       "      <td>Dog</td>\n",
       "      <td>6</td>\n",
       "      <td>2021-05-31</td>\n",
       "    </tr>\n",
       "    <tr>\n",
       "      <th>4</th>\n",
       "      <td>Timothy</td>\n",
       "      <td>guinea pig</td>\n",
       "      <td>2</td>\n",
       "      <td>2021-02-11</td>\n",
       "    </tr>\n",
       "    <tr>\n",
       "      <th>5</th>\n",
       "      <td>Megan</td>\n",
       "      <td>Sheep</td>\n",
       "      <td>4</td>\n",
       "      <td>2021-06-23</td>\n",
       "    </tr>\n",
       "    <tr>\n",
       "      <th>6</th>\n",
       "      <td>Nicholas</td>\n",
       "      <td>Alpaca</td>\n",
       "      <td>10</td>\n",
       "      <td>2021-08-01</td>\n",
       "    </tr>\n",
       "    <tr>\n",
       "      <th>7</th>\n",
       "      <td>Brian</td>\n",
       "      <td>Sheep</td>\n",
       "      <td>2</td>\n",
       "      <td>2021-09-05</td>\n",
       "    </tr>\n",
       "    <tr>\n",
       "      <th>8</th>\n",
       "      <td>Tamara</td>\n",
       "      <td>Donkey</td>\n",
       "      <td>2</td>\n",
       "      <td>2021-10-24</td>\n",
       "    </tr>\n",
       "    <tr>\n",
       "      <th>9</th>\n",
       "      <td>Julie</td>\n",
       "      <td>Bird</td>\n",
       "      <td>3</td>\n",
       "      <td>2021-10-05</td>\n",
       "    </tr>\n",
       "    <tr>\n",
       "      <th>10</th>\n",
       "      <td>John</td>\n",
       "      <td>hamster</td>\n",
       "      <td>3</td>\n",
       "      <td>2021-11-16</td>\n",
       "    </tr>\n",
       "    <tr>\n",
       "      <th>11</th>\n",
       "      <td>Michael</td>\n",
       "      <td>Bird</td>\n",
       "      <td>5</td>\n",
       "      <td>2021-05-06</td>\n",
       "    </tr>\n",
       "    <tr>\n",
       "      <th>12</th>\n",
       "      <td>Christy</td>\n",
       "      <td>gerbil</td>\n",
       "      <td>5</td>\n",
       "      <td>2021-01-06</td>\n",
       "    </tr>\n",
       "    <tr>\n",
       "      <th>13</th>\n",
       "      <td>Cynthia</td>\n",
       "      <td>gerbil</td>\n",
       "      <td>1</td>\n",
       "      <td>2021-04-11</td>\n",
       "    </tr>\n",
       "    <tr>\n",
       "      <th>14</th>\n",
       "      <td>Mark</td>\n",
       "      <td>Fish</td>\n",
       "      <td>3</td>\n",
       "      <td>2021-09-30</td>\n",
       "    </tr>\n",
       "    <tr>\n",
       "      <th>15</th>\n",
       "      <td>Samantha</td>\n",
       "      <td>Pig</td>\n",
       "      <td>3</td>\n",
       "      <td>2021-03-08</td>\n",
       "    </tr>\n",
       "    <tr>\n",
       "      <th>16</th>\n",
       "      <td>Jason</td>\n",
       "      <td>Horse</td>\n",
       "      <td>5</td>\n",
       "      <td>2021-05-05</td>\n",
       "    </tr>\n",
       "    <tr>\n",
       "      <th>17</th>\n",
       "      <td>Nancy</td>\n",
       "      <td>Red fox</td>\n",
       "      <td>10</td>\n",
       "      <td>2021-07-14</td>\n",
       "    </tr>\n",
       "    <tr>\n",
       "      <th>18</th>\n",
       "      <td>Bradley</td>\n",
       "      <td>Hedgehog</td>\n",
       "      <td>3</td>\n",
       "      <td>2021-08-09</td>\n",
       "    </tr>\n",
       "    <tr>\n",
       "      <th>19</th>\n",
       "      <td>Alison</td>\n",
       "      <td>Pig</td>\n",
       "      <td>6</td>\n",
       "      <td>2021-09-09</td>\n",
       "    </tr>\n",
       "    <tr>\n",
       "      <th>20</th>\n",
       "      <td>Sherri</td>\n",
       "      <td>Sugar glider</td>\n",
       "      <td>4</td>\n",
       "      <td>2021-07-21</td>\n",
       "    </tr>\n",
       "    <tr>\n",
       "      <th>21</th>\n",
       "      <td>Lauren</td>\n",
       "      <td>Alpaca</td>\n",
       "      <td>3</td>\n",
       "      <td>2021-05-07</td>\n",
       "    </tr>\n",
       "    <tr>\n",
       "      <th>22</th>\n",
       "      <td>Cheryl</td>\n",
       "      <td>Goat</td>\n",
       "      <td>8</td>\n",
       "      <td>2021-10-17</td>\n",
       "    </tr>\n",
       "    <tr>\n",
       "      <th>23</th>\n",
       "      <td>Jennifer</td>\n",
       "      <td>Sheep</td>\n",
       "      <td>8</td>\n",
       "      <td>2021-02-27</td>\n",
       "    </tr>\n",
       "    <tr>\n",
       "      <th>24</th>\n",
       "      <td>Brian</td>\n",
       "      <td>Monkey</td>\n",
       "      <td>7</td>\n",
       "      <td>2021-08-25</td>\n",
       "    </tr>\n",
       "  </tbody>\n",
       "</table>\n",
       "</div>"
      ],
      "text/plain": [
       "        name       species  age adoptionDate\n",
       "0     Deanna        Alpaca    9   2021-01-16\n",
       "1       Jose         Llama    5   2021-06-19\n",
       "2      Sarah         Llama    7   2021-10-14\n",
       "3     Miguel           Dog    6   2021-05-31\n",
       "4    Timothy    guinea pig    2   2021-02-11\n",
       "5      Megan         Sheep    4   2021-06-23\n",
       "6   Nicholas        Alpaca   10   2021-08-01\n",
       "7      Brian         Sheep    2   2021-09-05\n",
       "8     Tamara        Donkey    2   2021-10-24\n",
       "9      Julie          Bird    3   2021-10-05\n",
       "10      John       hamster    3   2021-11-16\n",
       "11   Michael          Bird    5   2021-05-06\n",
       "12   Christy        gerbil    5   2021-01-06\n",
       "13   Cynthia        gerbil    1   2021-04-11\n",
       "14      Mark          Fish    3   2021-09-30\n",
       "15  Samantha           Pig    3   2021-03-08\n",
       "16     Jason         Horse    5   2021-05-05\n",
       "17     Nancy       Red fox   10   2021-07-14\n",
       "18   Bradley      Hedgehog    3   2021-08-09\n",
       "19    Alison           Pig    6   2021-09-09\n",
       "20    Sherri  Sugar glider    4   2021-07-21\n",
       "21    Lauren        Alpaca    3   2021-05-07\n",
       "22    Cheryl          Goat    8   2021-10-17\n",
       "23  Jennifer         Sheep    8   2021-02-27\n",
       "24     Brian        Monkey    7   2021-08-25"
      ]
     },
     "execution_count": 68,
     "metadata": {},
     "output_type": "execute_result"
    }
   ],
   "source": [
    "pd.json_normalize(df.patients)"
   ]
  },
  {
   "cell_type": "code",
   "execution_count": 65,
   "metadata": {},
   "outputs": [
    {
     "data": {
      "text/html": [
       "<div>\n",
       "<style scoped>\n",
       "    .dataframe tbody tr th:only-of-type {\n",
       "        vertical-align: middle;\n",
       "    }\n",
       "\n",
       "    .dataframe tbody tr th {\n",
       "        vertical-align: top;\n",
       "    }\n",
       "\n",
       "    .dataframe thead th {\n",
       "        text-align: right;\n",
       "    }\n",
       "</style>\n",
       "<table border=\"1\" class=\"dataframe\">\n",
       "  <thead>\n",
       "    <tr style=\"text-align: right;\">\n",
       "      <th></th>\n",
       "      <th>name</th>\n",
       "      <th>species</th>\n",
       "      <th>age</th>\n",
       "      <th>adoptionDate</th>\n",
       "      <th>vetOffice</th>\n",
       "      <th>vetOfficeAddress</th>\n",
       "      <th>vetName</th>\n",
       "    </tr>\n",
       "  </thead>\n",
       "  <tbody>\n",
       "    <tr>\n",
       "      <th>0</th>\n",
       "      <td>Deanna</td>\n",
       "      <td>Alpaca</td>\n",
       "      <td>9</td>\n",
       "      <td>2021-01-16</td>\n",
       "      <td>Paws N Claws</td>\n",
       "      <td>1234 Main St. \\n Chicago, IL</td>\n",
       "      <td>Joseph R. Wilkes</td>\n",
       "    </tr>\n",
       "    <tr>\n",
       "      <th>1</th>\n",
       "      <td>Jose</td>\n",
       "      <td>Llama</td>\n",
       "      <td>5</td>\n",
       "      <td>2021-06-19</td>\n",
       "      <td>Paws N Claws</td>\n",
       "      <td>1234 Main St. \\n Chicago, IL</td>\n",
       "      <td>Joseph R. Wilkes</td>\n",
       "    </tr>\n",
       "    <tr>\n",
       "      <th>2</th>\n",
       "      <td>Sarah</td>\n",
       "      <td>Llama</td>\n",
       "      <td>7</td>\n",
       "      <td>2021-10-14</td>\n",
       "      <td>Paws N Claws</td>\n",
       "      <td>1234 Main St. \\n Chicago, IL</td>\n",
       "      <td>Joseph R. Wilkes</td>\n",
       "    </tr>\n",
       "    <tr>\n",
       "      <th>3</th>\n",
       "      <td>Miguel</td>\n",
       "      <td>Dog</td>\n",
       "      <td>6</td>\n",
       "      <td>2021-05-31</td>\n",
       "      <td>Paws N Claws</td>\n",
       "      <td>1234 Main St. \\n Chicago, IL</td>\n",
       "      <td>Joseph R. Wilkes</td>\n",
       "    </tr>\n",
       "    <tr>\n",
       "      <th>4</th>\n",
       "      <td>Timothy</td>\n",
       "      <td>guinea pig</td>\n",
       "      <td>2</td>\n",
       "      <td>2021-02-11</td>\n",
       "      <td>Paws N Claws</td>\n",
       "      <td>1234 Main St. \\n Chicago, IL</td>\n",
       "      <td>Joseph R. Wilkes</td>\n",
       "    </tr>\n",
       "    <tr>\n",
       "      <th>5</th>\n",
       "      <td>Megan</td>\n",
       "      <td>Sheep</td>\n",
       "      <td>4</td>\n",
       "      <td>2021-06-23</td>\n",
       "      <td>Paws N Claws</td>\n",
       "      <td>1234 Main St. \\n Chicago, IL</td>\n",
       "      <td>Joseph R. Wilkes</td>\n",
       "    </tr>\n",
       "    <tr>\n",
       "      <th>6</th>\n",
       "      <td>Nicholas</td>\n",
       "      <td>Alpaca</td>\n",
       "      <td>10</td>\n",
       "      <td>2021-08-01</td>\n",
       "      <td>Paws N Claws</td>\n",
       "      <td>1234 Main St. \\n Chicago, IL</td>\n",
       "      <td>Joseph R. Wilkes</td>\n",
       "    </tr>\n",
       "    <tr>\n",
       "      <th>7</th>\n",
       "      <td>Brian</td>\n",
       "      <td>Sheep</td>\n",
       "      <td>2</td>\n",
       "      <td>2021-09-05</td>\n",
       "      <td>Paws N Claws</td>\n",
       "      <td>1234 Main St. \\n Chicago, IL</td>\n",
       "      <td>Joseph R. Wilkes</td>\n",
       "    </tr>\n",
       "    <tr>\n",
       "      <th>8</th>\n",
       "      <td>Tamara</td>\n",
       "      <td>Donkey</td>\n",
       "      <td>2</td>\n",
       "      <td>2021-10-24</td>\n",
       "      <td>Paws N Claws</td>\n",
       "      <td>1234 Main St. \\n Chicago, IL</td>\n",
       "      <td>Joseph R. Wilkes</td>\n",
       "    </tr>\n",
       "    <tr>\n",
       "      <th>9</th>\n",
       "      <td>Julie</td>\n",
       "      <td>Bird</td>\n",
       "      <td>3</td>\n",
       "      <td>2021-10-05</td>\n",
       "      <td>Paws N Claws</td>\n",
       "      <td>1234 Main St. \\n Chicago, IL</td>\n",
       "      <td>Joseph R. Wilkes</td>\n",
       "    </tr>\n",
       "    <tr>\n",
       "      <th>10</th>\n",
       "      <td>John</td>\n",
       "      <td>hamster</td>\n",
       "      <td>3</td>\n",
       "      <td>2021-11-16</td>\n",
       "      <td>Paws N Claws</td>\n",
       "      <td>1234 Main St. \\n Chicago, IL</td>\n",
       "      <td>Joseph R. Wilkes</td>\n",
       "    </tr>\n",
       "    <tr>\n",
       "      <th>11</th>\n",
       "      <td>Michael</td>\n",
       "      <td>Bird</td>\n",
       "      <td>5</td>\n",
       "      <td>2021-05-06</td>\n",
       "      <td>Paws N Claws</td>\n",
       "      <td>1234 Main St. \\n Chicago, IL</td>\n",
       "      <td>Joseph R. Wilkes</td>\n",
       "    </tr>\n",
       "    <tr>\n",
       "      <th>12</th>\n",
       "      <td>Christy</td>\n",
       "      <td>gerbil</td>\n",
       "      <td>5</td>\n",
       "      <td>2021-01-06</td>\n",
       "      <td>Paws N Claws</td>\n",
       "      <td>1234 Main St. \\n Chicago, IL</td>\n",
       "      <td>Joseph R. Wilkes</td>\n",
       "    </tr>\n",
       "    <tr>\n",
       "      <th>13</th>\n",
       "      <td>Cynthia</td>\n",
       "      <td>gerbil</td>\n",
       "      <td>1</td>\n",
       "      <td>2021-04-11</td>\n",
       "      <td>Paws N Claws</td>\n",
       "      <td>1234 Main St. \\n Chicago, IL</td>\n",
       "      <td>Joseph R. Wilkes</td>\n",
       "    </tr>\n",
       "    <tr>\n",
       "      <th>14</th>\n",
       "      <td>Mark</td>\n",
       "      <td>Fish</td>\n",
       "      <td>3</td>\n",
       "      <td>2021-09-30</td>\n",
       "      <td>Paws N Claws</td>\n",
       "      <td>1234 Main St. \\n Chicago, IL</td>\n",
       "      <td>Joseph R. Wilkes</td>\n",
       "    </tr>\n",
       "    <tr>\n",
       "      <th>15</th>\n",
       "      <td>Samantha</td>\n",
       "      <td>Pig</td>\n",
       "      <td>3</td>\n",
       "      <td>2021-03-08</td>\n",
       "      <td>Paws N Claws</td>\n",
       "      <td>1234 Main St. \\n Chicago, IL</td>\n",
       "      <td>Joseph R. Wilkes</td>\n",
       "    </tr>\n",
       "    <tr>\n",
       "      <th>16</th>\n",
       "      <td>Jason</td>\n",
       "      <td>Horse</td>\n",
       "      <td>5</td>\n",
       "      <td>2021-05-05</td>\n",
       "      <td>Paws N Claws</td>\n",
       "      <td>1234 Main St. \\n Chicago, IL</td>\n",
       "      <td>Joseph R. Wilkes</td>\n",
       "    </tr>\n",
       "    <tr>\n",
       "      <th>17</th>\n",
       "      <td>Nancy</td>\n",
       "      <td>Red fox</td>\n",
       "      <td>10</td>\n",
       "      <td>2021-07-14</td>\n",
       "      <td>Paws N Claws</td>\n",
       "      <td>1234 Main St. \\n Chicago, IL</td>\n",
       "      <td>Joseph R. Wilkes</td>\n",
       "    </tr>\n",
       "    <tr>\n",
       "      <th>18</th>\n",
       "      <td>Bradley</td>\n",
       "      <td>Hedgehog</td>\n",
       "      <td>3</td>\n",
       "      <td>2021-08-09</td>\n",
       "      <td>Paws N Claws</td>\n",
       "      <td>1234 Main St. \\n Chicago, IL</td>\n",
       "      <td>Joseph R. Wilkes</td>\n",
       "    </tr>\n",
       "    <tr>\n",
       "      <th>19</th>\n",
       "      <td>Alison</td>\n",
       "      <td>Pig</td>\n",
       "      <td>6</td>\n",
       "      <td>2021-09-09</td>\n",
       "      <td>Paws N Claws</td>\n",
       "      <td>1234 Main St. \\n Chicago, IL</td>\n",
       "      <td>Joseph R. Wilkes</td>\n",
       "    </tr>\n",
       "    <tr>\n",
       "      <th>20</th>\n",
       "      <td>Sherri</td>\n",
       "      <td>Sugar glider</td>\n",
       "      <td>4</td>\n",
       "      <td>2021-07-21</td>\n",
       "      <td>Paws N Claws</td>\n",
       "      <td>1234 Main St. \\n Chicago, IL</td>\n",
       "      <td>Joseph R. Wilkes</td>\n",
       "    </tr>\n",
       "    <tr>\n",
       "      <th>21</th>\n",
       "      <td>Lauren</td>\n",
       "      <td>Alpaca</td>\n",
       "      <td>3</td>\n",
       "      <td>2021-05-07</td>\n",
       "      <td>Paws N Claws</td>\n",
       "      <td>1234 Main St. \\n Chicago, IL</td>\n",
       "      <td>Joseph R. Wilkes</td>\n",
       "    </tr>\n",
       "    <tr>\n",
       "      <th>22</th>\n",
       "      <td>Cheryl</td>\n",
       "      <td>Goat</td>\n",
       "      <td>8</td>\n",
       "      <td>2021-10-17</td>\n",
       "      <td>Paws N Claws</td>\n",
       "      <td>1234 Main St. \\n Chicago, IL</td>\n",
       "      <td>Joseph R. Wilkes</td>\n",
       "    </tr>\n",
       "    <tr>\n",
       "      <th>23</th>\n",
       "      <td>Jennifer</td>\n",
       "      <td>Sheep</td>\n",
       "      <td>8</td>\n",
       "      <td>2021-02-27</td>\n",
       "      <td>Paws N Claws</td>\n",
       "      <td>1234 Main St. \\n Chicago, IL</td>\n",
       "      <td>Joseph R. Wilkes</td>\n",
       "    </tr>\n",
       "    <tr>\n",
       "      <th>24</th>\n",
       "      <td>Brian</td>\n",
       "      <td>Monkey</td>\n",
       "      <td>7</td>\n",
       "      <td>2021-08-25</td>\n",
       "      <td>Paws N Claws</td>\n",
       "      <td>1234 Main St. \\n Chicago, IL</td>\n",
       "      <td>Joseph R. Wilkes</td>\n",
       "    </tr>\n",
       "  </tbody>\n",
       "</table>\n",
       "</div>"
      ],
      "text/plain": [
       "        name       species  age adoptionDate     vetOffice  \\\n",
       "0     Deanna        Alpaca    9   2021-01-16  Paws N Claws   \n",
       "1       Jose         Llama    5   2021-06-19  Paws N Claws   \n",
       "2      Sarah         Llama    7   2021-10-14  Paws N Claws   \n",
       "3     Miguel           Dog    6   2021-05-31  Paws N Claws   \n",
       "4    Timothy    guinea pig    2   2021-02-11  Paws N Claws   \n",
       "5      Megan         Sheep    4   2021-06-23  Paws N Claws   \n",
       "6   Nicholas        Alpaca   10   2021-08-01  Paws N Claws   \n",
       "7      Brian         Sheep    2   2021-09-05  Paws N Claws   \n",
       "8     Tamara        Donkey    2   2021-10-24  Paws N Claws   \n",
       "9      Julie          Bird    3   2021-10-05  Paws N Claws   \n",
       "10      John       hamster    3   2021-11-16  Paws N Claws   \n",
       "11   Michael          Bird    5   2021-05-06  Paws N Claws   \n",
       "12   Christy        gerbil    5   2021-01-06  Paws N Claws   \n",
       "13   Cynthia        gerbil    1   2021-04-11  Paws N Claws   \n",
       "14      Mark          Fish    3   2021-09-30  Paws N Claws   \n",
       "15  Samantha           Pig    3   2021-03-08  Paws N Claws   \n",
       "16     Jason         Horse    5   2021-05-05  Paws N Claws   \n",
       "17     Nancy       Red fox   10   2021-07-14  Paws N Claws   \n",
       "18   Bradley      Hedgehog    3   2021-08-09  Paws N Claws   \n",
       "19    Alison           Pig    6   2021-09-09  Paws N Claws   \n",
       "20    Sherri  Sugar glider    4   2021-07-21  Paws N Claws   \n",
       "21    Lauren        Alpaca    3   2021-05-07  Paws N Claws   \n",
       "22    Cheryl          Goat    8   2021-10-17  Paws N Claws   \n",
       "23  Jennifer         Sheep    8   2021-02-27  Paws N Claws   \n",
       "24     Brian        Monkey    7   2021-08-25  Paws N Claws   \n",
       "\n",
       "                vetOfficeAddress           vetName  \n",
       "0   1234 Main St. \\n Chicago, IL  Joseph R. Wilkes  \n",
       "1   1234 Main St. \\n Chicago, IL  Joseph R. Wilkes  \n",
       "2   1234 Main St. \\n Chicago, IL  Joseph R. Wilkes  \n",
       "3   1234 Main St. \\n Chicago, IL  Joseph R. Wilkes  \n",
       "4   1234 Main St. \\n Chicago, IL  Joseph R. Wilkes  \n",
       "5   1234 Main St. \\n Chicago, IL  Joseph R. Wilkes  \n",
       "6   1234 Main St. \\n Chicago, IL  Joseph R. Wilkes  \n",
       "7   1234 Main St. \\n Chicago, IL  Joseph R. Wilkes  \n",
       "8   1234 Main St. \\n Chicago, IL  Joseph R. Wilkes  \n",
       "9   1234 Main St. \\n Chicago, IL  Joseph R. Wilkes  \n",
       "10  1234 Main St. \\n Chicago, IL  Joseph R. Wilkes  \n",
       "11  1234 Main St. \\n Chicago, IL  Joseph R. Wilkes  \n",
       "12  1234 Main St. \\n Chicago, IL  Joseph R. Wilkes  \n",
       "13  1234 Main St. \\n Chicago, IL  Joseph R. Wilkes  \n",
       "14  1234 Main St. \\n Chicago, IL  Joseph R. Wilkes  \n",
       "15  1234 Main St. \\n Chicago, IL  Joseph R. Wilkes  \n",
       "16  1234 Main St. \\n Chicago, IL  Joseph R. Wilkes  \n",
       "17  1234 Main St. \\n Chicago, IL  Joseph R. Wilkes  \n",
       "18  1234 Main St. \\n Chicago, IL  Joseph R. Wilkes  \n",
       "19  1234 Main St. \\n Chicago, IL  Joseph R. Wilkes  \n",
       "20  1234 Main St. \\n Chicago, IL  Joseph R. Wilkes  \n",
       "21  1234 Main St. \\n Chicago, IL  Joseph R. Wilkes  \n",
       "22  1234 Main St. \\n Chicago, IL  Joseph R. Wilkes  \n",
       "23  1234 Main St. \\n Chicago, IL  Joseph R. Wilkes  \n",
       "24  1234 Main St. \\n Chicago, IL  Joseph R. Wilkes  "
      ]
     },
     "execution_count": 65,
     "metadata": {},
     "output_type": "execute_result"
    }
   ],
   "source": [
    "df2 = pd.concat([pd.json_normalize(df.patients), df], axis=1).drop(columns=[\"patients\"])\n",
    "df2"
   ]
  },
  {
   "cell_type": "code",
   "execution_count": 69,
   "metadata": {},
   "outputs": [
    {
     "data": {
      "text/plain": [
       "{'schema': {'fields': [{'name': 'index', 'type': 'integer'},\n",
       "   {'name': 'name', 'type': 'string'},\n",
       "   {'name': 'species', 'type': 'string'},\n",
       "   {'name': 'age', 'type': 'integer'},\n",
       "   {'name': 'adoptionDate', 'type': 'string'},\n",
       "   {'name': 'vetOffice', 'type': 'string'},\n",
       "   {'name': 'vetOfficeAddress', 'type': 'string'},\n",
       "   {'name': 'vetName', 'type': 'string'}],\n",
       "  'primaryKey': ['index'],\n",
       "  'pandas_version': '0.20.0'},\n",
       " 'data': [{'index': 0,\n",
       "   'name': 'Deanna',\n",
       "   'species': 'Alpaca',\n",
       "   'age': 9,\n",
       "   'adoptionDate': '2021-01-16',\n",
       "   'vetOffice': 'Paws N Claws',\n",
       "   'vetOfficeAddress': '1234 Main St. \\n Chicago, IL',\n",
       "   'vetName': 'Joseph R. Wilkes'},\n",
       "  {'index': 1,\n",
       "   'name': 'Jose',\n",
       "   'species': 'Llama',\n",
       "   'age': 5,\n",
       "   'adoptionDate': '2021-06-19',\n",
       "   'vetOffice': 'Paws N Claws',\n",
       "   'vetOfficeAddress': '1234 Main St. \\n Chicago, IL',\n",
       "   'vetName': 'Joseph R. Wilkes'},\n",
       "  {'index': 2,\n",
       "   'name': 'Sarah',\n",
       "   'species': 'Llama',\n",
       "   'age': 7,\n",
       "   'adoptionDate': '2021-10-14',\n",
       "   'vetOffice': 'Paws N Claws',\n",
       "   'vetOfficeAddress': '1234 Main St. \\n Chicago, IL',\n",
       "   'vetName': 'Joseph R. Wilkes'},\n",
       "  {'index': 3,\n",
       "   'name': 'Miguel',\n",
       "   'species': 'Dog',\n",
       "   'age': 6,\n",
       "   'adoptionDate': '2021-05-31',\n",
       "   'vetOffice': 'Paws N Claws',\n",
       "   'vetOfficeAddress': '1234 Main St. \\n Chicago, IL',\n",
       "   'vetName': 'Joseph R. Wilkes'},\n",
       "  {'index': 4,\n",
       "   'name': 'Timothy',\n",
       "   'species': 'guinea pig',\n",
       "   'age': 2,\n",
       "   'adoptionDate': '2021-02-11',\n",
       "   'vetOffice': 'Paws N Claws',\n",
       "   'vetOfficeAddress': '1234 Main St. \\n Chicago, IL',\n",
       "   'vetName': 'Joseph R. Wilkes'},\n",
       "  {'index': 5,\n",
       "   'name': 'Megan',\n",
       "   'species': 'Sheep',\n",
       "   'age': 4,\n",
       "   'adoptionDate': '2021-06-23',\n",
       "   'vetOffice': 'Paws N Claws',\n",
       "   'vetOfficeAddress': '1234 Main St. \\n Chicago, IL',\n",
       "   'vetName': 'Joseph R. Wilkes'},\n",
       "  {'index': 6,\n",
       "   'name': 'Nicholas',\n",
       "   'species': 'Alpaca',\n",
       "   'age': 10,\n",
       "   'adoptionDate': '2021-08-01',\n",
       "   'vetOffice': 'Paws N Claws',\n",
       "   'vetOfficeAddress': '1234 Main St. \\n Chicago, IL',\n",
       "   'vetName': 'Joseph R. Wilkes'},\n",
       "  {'index': 7,\n",
       "   'name': 'Brian',\n",
       "   'species': 'Sheep',\n",
       "   'age': 2,\n",
       "   'adoptionDate': '2021-09-05',\n",
       "   'vetOffice': 'Paws N Claws',\n",
       "   'vetOfficeAddress': '1234 Main St. \\n Chicago, IL',\n",
       "   'vetName': 'Joseph R. Wilkes'},\n",
       "  {'index': 8,\n",
       "   'name': 'Tamara',\n",
       "   'species': 'Donkey',\n",
       "   'age': 2,\n",
       "   'adoptionDate': '2021-10-24',\n",
       "   'vetOffice': 'Paws N Claws',\n",
       "   'vetOfficeAddress': '1234 Main St. \\n Chicago, IL',\n",
       "   'vetName': 'Joseph R. Wilkes'},\n",
       "  {'index': 9,\n",
       "   'name': 'Julie',\n",
       "   'species': 'Bird',\n",
       "   'age': 3,\n",
       "   'adoptionDate': '2021-10-05',\n",
       "   'vetOffice': 'Paws N Claws',\n",
       "   'vetOfficeAddress': '1234 Main St. \\n Chicago, IL',\n",
       "   'vetName': 'Joseph R. Wilkes'},\n",
       "  {'index': 10,\n",
       "   'name': 'John',\n",
       "   'species': 'hamster',\n",
       "   'age': 3,\n",
       "   'adoptionDate': '2021-11-16',\n",
       "   'vetOffice': 'Paws N Claws',\n",
       "   'vetOfficeAddress': '1234 Main St. \\n Chicago, IL',\n",
       "   'vetName': 'Joseph R. Wilkes'},\n",
       "  {'index': 11,\n",
       "   'name': 'Michael',\n",
       "   'species': 'Bird',\n",
       "   'age': 5,\n",
       "   'adoptionDate': '2021-05-06',\n",
       "   'vetOffice': 'Paws N Claws',\n",
       "   'vetOfficeAddress': '1234 Main St. \\n Chicago, IL',\n",
       "   'vetName': 'Joseph R. Wilkes'},\n",
       "  {'index': 12,\n",
       "   'name': 'Christy',\n",
       "   'species': 'gerbil',\n",
       "   'age': 5,\n",
       "   'adoptionDate': '2021-01-06',\n",
       "   'vetOffice': 'Paws N Claws',\n",
       "   'vetOfficeAddress': '1234 Main St. \\n Chicago, IL',\n",
       "   'vetName': 'Joseph R. Wilkes'},\n",
       "  {'index': 13,\n",
       "   'name': 'Cynthia',\n",
       "   'species': 'gerbil',\n",
       "   'age': 1,\n",
       "   'adoptionDate': '2021-04-11',\n",
       "   'vetOffice': 'Paws N Claws',\n",
       "   'vetOfficeAddress': '1234 Main St. \\n Chicago, IL',\n",
       "   'vetName': 'Joseph R. Wilkes'},\n",
       "  {'index': 14,\n",
       "   'name': 'Mark',\n",
       "   'species': 'Fish',\n",
       "   'age': 3,\n",
       "   'adoptionDate': '2021-09-30',\n",
       "   'vetOffice': 'Paws N Claws',\n",
       "   'vetOfficeAddress': '1234 Main St. \\n Chicago, IL',\n",
       "   'vetName': 'Joseph R. Wilkes'},\n",
       "  {'index': 15,\n",
       "   'name': 'Samantha',\n",
       "   'species': 'Pig',\n",
       "   'age': 3,\n",
       "   'adoptionDate': '2021-03-08',\n",
       "   'vetOffice': 'Paws N Claws',\n",
       "   'vetOfficeAddress': '1234 Main St. \\n Chicago, IL',\n",
       "   'vetName': 'Joseph R. Wilkes'},\n",
       "  {'index': 16,\n",
       "   'name': 'Jason',\n",
       "   'species': 'Horse',\n",
       "   'age': 5,\n",
       "   'adoptionDate': '2021-05-05',\n",
       "   'vetOffice': 'Paws N Claws',\n",
       "   'vetOfficeAddress': '1234 Main St. \\n Chicago, IL',\n",
       "   'vetName': 'Joseph R. Wilkes'},\n",
       "  {'index': 17,\n",
       "   'name': 'Nancy',\n",
       "   'species': 'Red fox',\n",
       "   'age': 10,\n",
       "   'adoptionDate': '2021-07-14',\n",
       "   'vetOffice': 'Paws N Claws',\n",
       "   'vetOfficeAddress': '1234 Main St. \\n Chicago, IL',\n",
       "   'vetName': 'Joseph R. Wilkes'},\n",
       "  {'index': 18,\n",
       "   'name': 'Bradley',\n",
       "   'species': 'Hedgehog',\n",
       "   'age': 3,\n",
       "   'adoptionDate': '2021-08-09',\n",
       "   'vetOffice': 'Paws N Claws',\n",
       "   'vetOfficeAddress': '1234 Main St. \\n Chicago, IL',\n",
       "   'vetName': 'Joseph R. Wilkes'},\n",
       "  {'index': 19,\n",
       "   'name': 'Alison',\n",
       "   'species': 'Pig',\n",
       "   'age': 6,\n",
       "   'adoptionDate': '2021-09-09',\n",
       "   'vetOffice': 'Paws N Claws',\n",
       "   'vetOfficeAddress': '1234 Main St. \\n Chicago, IL',\n",
       "   'vetName': 'Joseph R. Wilkes'},\n",
       "  {'index': 20,\n",
       "   'name': 'Sherri',\n",
       "   'species': 'Sugar glider',\n",
       "   'age': 4,\n",
       "   'adoptionDate': '2021-07-21',\n",
       "   'vetOffice': 'Paws N Claws',\n",
       "   'vetOfficeAddress': '1234 Main St. \\n Chicago, IL',\n",
       "   'vetName': 'Joseph R. Wilkes'},\n",
       "  {'index': 21,\n",
       "   'name': 'Lauren',\n",
       "   'species': 'Alpaca',\n",
       "   'age': 3,\n",
       "   'adoptionDate': '2021-05-07',\n",
       "   'vetOffice': 'Paws N Claws',\n",
       "   'vetOfficeAddress': '1234 Main St. \\n Chicago, IL',\n",
       "   'vetName': 'Joseph R. Wilkes'},\n",
       "  {'index': 22,\n",
       "   'name': 'Cheryl',\n",
       "   'species': 'Goat',\n",
       "   'age': 8,\n",
       "   'adoptionDate': '2021-10-17',\n",
       "   'vetOffice': 'Paws N Claws',\n",
       "   'vetOfficeAddress': '1234 Main St. \\n Chicago, IL',\n",
       "   'vetName': 'Joseph R. Wilkes'},\n",
       "  {'index': 23,\n",
       "   'name': 'Jennifer',\n",
       "   'species': 'Sheep',\n",
       "   'age': 8,\n",
       "   'adoptionDate': '2021-02-27',\n",
       "   'vetOffice': 'Paws N Claws',\n",
       "   'vetOfficeAddress': '1234 Main St. \\n Chicago, IL',\n",
       "   'vetName': 'Joseph R. Wilkes'},\n",
       "  {'index': 24,\n",
       "   'name': 'Brian',\n",
       "   'species': 'Monkey',\n",
       "   'age': 7,\n",
       "   'adoptionDate': '2021-08-25',\n",
       "   'vetOffice': 'Paws N Claws',\n",
       "   'vetOfficeAddress': '1234 Main St. \\n Chicago, IL',\n",
       "   'vetName': 'Joseph R. Wilkes'}]}"
      ]
     },
     "execution_count": 69,
     "metadata": {},
     "output_type": "execute_result"
    }
   ],
   "source": [
    "json.loads(df2.to_json(orient='table'))"
   ]
  },
  {
   "cell_type": "code",
   "execution_count": null,
   "metadata": {},
   "outputs": [],
   "source": []
  }
 ],
 "metadata": {
  "kernelspec": {
   "display_name": "Python 3.9.7 ('base')",
   "language": "python",
   "name": "python3"
  },
  "language_info": {
   "codemirror_mode": {
    "name": "ipython",
    "version": 3
   },
   "file_extension": ".py",
   "mimetype": "text/x-python",
   "name": "python",
   "nbconvert_exporter": "python",
   "pygments_lexer": "ipython3",
   "version": "3.9.7"
  },
  "orig_nbformat": 4,
  "vscode": {
   "interpreter": {
    "hash": "95d86cc39d5d58d521500cebfc408ba0f6686fc300eaf2bd5ed8b0712fdc01ba"
   }
  }
 },
 "nbformat": 4,
 "nbformat_minor": 2
}
